{
  "nbformat": 4,
  "nbformat_minor": 0,
  "metadata": {
    "colab": {
      "provenance": []
    },
    "kernelspec": {
      "name": "python3",
      "display_name": "Python 3"
    }
  },
  "cells": [
    {
      "cell_type": "markdown",
      "metadata": {
        "id": "bXRLd25OKuCf"
      },
      "source": [
        "# **6.8701 | 6.8700 | HST.507**\n",
        "\n",
        "#**Fall 2022 Problem Set 1: Aligning and Modeling Genomes**\n",
        "\n",
        "Due: Wednesday, September 28 at 11:59PM (submit copy of notebook to Canvas)"
      ]
    },
    {
      "cell_type": "markdown",
      "metadata": {
        "id": "TBFZarclPt4o"
      },
      "source": [
        "#Load libraries\n"
      ]
    },
    {
      "cell_type": "code",
      "metadata": {
        "id": "IMjjMM_QPrUz"
      },
      "source": [
        "from google.colab import files\n",
        "from math import log\n",
        "import matplotlib.pyplot as plt\n",
        "import io, random\n",
        "import numpy as np"
      ],
      "execution_count": null,
      "outputs": []
    },
    {
      "cell_type": "markdown",
      "metadata": {
        "id": "k1FbynLyLvyd"
      },
      "source": [
        "#Evolutionary distances of orthologs and paralogs\n",
        "\n",
        "In this problem, you will implement the Needleman-Wunsch algorithm for pairwise sequence alignment, apply it to the protein-coding sequences of related genes from several mammalian genomes, and use the results to learn about their evolution."
      ]
    },
    {
      "cell_type": "markdown",
      "metadata": {
        "id": "p7vjeNNHtF2p"
      },
      "source": [
        "**A) Below is a python skeleton program that you need to complete. We provide a traceback routine, but you will write the code to fill in the score and traceback matrices. The skeleton program specifies a substitution matrix and gap penalty.**"
      ]
    },
    {
      "cell_type": "code",
      "metadata": {
        "id": "H9UO8RNoK8G3"
      },
      "source": [
        "base_idx = { 'A' : 0, 'G' : 1, 'C' : 2, 'T' : 3 }\n",
        "PTR_NONE, PTR_GAP1, PTR_GAP2, PTR_BASE = 0, 1, 2, 3\n",
        "S = [\n",
        "\t# A  G   C   T\n",
        "\t[3, -1, -2, -2], # A\n",
        "\t[-1, 3, -2, -2], # G\n",
        "\t[-2, -2, 3, -1], # C\n",
        "\t[-2, -2, -1, 3]  # T\n",
        "\t]\n",
        "gap_pen = 4\n",
        "\n",
        "def readSeq(file):\n",
        "\t\"\"\"reads in a FASTA sequence\"\"\"\n",
        "\tseq = []\n",
        "\tfor line in file.splitlines():\n",
        "\t\tif line.startswith(\">\"):\n",
        "\t\t\tcontinue\n",
        "\t\tseq.append(line.rstrip())\n",
        "\treturn \"\".join(seq)\n",
        "\n",
        "def traceback(seq1,seq2,TB):\n",
        "\ts1, s2 = \"\", \"\"\n",
        "\ti, j = len(seq1), len(seq2)\n",
        "\twhile TB[i][j] != PTR_NONE:\n",
        "\t\tif TB[i][j] == PTR_BASE:\n",
        "\t\t\ts1 = seq1[i-1] + s1\n",
        "\t\t\ts2 = seq2[j-1] + s2\n",
        "\t\t\ti -= 1\n",
        "\t\t\tj -= 1\n",
        "\t\telif TB[i][j] == PTR_GAP1:\n",
        "\t\t\ts1 = '-' + s1\n",
        "\t\t\ts2 = seq2[j-1] + s2\n",
        "\t\t\tj -= 1\n",
        "\t\telif TB[i][j] == PTR_GAP2:\n",
        "\t\t\ts1 = seq1[i-1] + s1\n",
        "\t\t\ts2 = '-' + s2\n",
        "\t\t\ti -= 1\n",
        "\t\telse: assert False\n",
        "\n",
        "\treturn s1, s2\n",
        "\n",
        "def getResults(seq1,seq2):\n",
        "\tscore, F, TB = seqalignDP(seq1, seq2, S, gap_pen)\n",
        "\ts1, s2 = traceback(seq1, seq2, TB)\n",
        "\treturn score, F, TB, s1, s2\n",
        "\n",
        "def seqalignDP(seq1,seq2,subst_matrix,gap_pen):\n",
        "\t\"\"\"return the score of the optimal Needleman-Wunsch alignment for seq1 and seq2\n",
        "\tNote: gap_pen should be positive (it is subtracted)\n",
        "\t\"\"\"\n",
        "\tF = [[0 for j in range(len(seq2) + 1)] for i in range(len(seq1) + 1)]\n",
        "\tTB = [[PTR_NONE for j in range(len(seq2) + 1)] for i in range(len(seq1) + 1)]\n",
        "\n",
        "\t# initialize dynamic programming table for Needleman-Wunsch alignment (Durbin p.20)\n",
        "\tfor i in range(1,len(seq1) + 1):\n",
        "\t\tF[i][0] = 0 - i * gap_pen\n",
        "\t\tTB[i][0] = PTR_GAP2 # indicates a gap in seq2\n",
        "\tfor j in range(1,len(seq2) + 1):\n",
        "\t\tF[0][j] = 0 - j * gap_pen\n",
        "\t\tTB[0][j] = PTR_GAP1 # indicates a gap in seq1\n",
        "\n",
        "\tfor i in range(1, len(seq1) + 1):\n",
        "\t\tpass\n",
        "\t\t# YOUR CODE HERE\n",
        "\t\tfor j in range(1, len(seq2) + 1):\n",
        "\t\t\txi=base_idx[seq1[i-1]]\n",
        "\t\t\tyi=base_idx[seq2[j-1]]\n",
        "\t\t\tdlist=[(F[i-1][j]-gap_pen),(F[i][j-1]-gap_pen),(F[i-1][j-1]+subst_matrix[xi][yi])]\n",
        "\t\t\tdmax=max(dlist)\n",
        "\t\t\tF[i][j]=dmax\n",
        "\t\t\tdindex=dlist.index(dmax)\n",
        "\t\t\tif dindex==0:\n",
        "\t\t\t\tTB[i][j]=PTR_GAP2\n",
        "\t\t\telif dindex==1:\n",
        "\t\t\t\tTB[i][j]=PTR_GAP1\n",
        "\t\t\telse:\n",
        "\t\t\t\tTB[i][j]=PTR_BASE\n",
        "\t\t# Fill in the dynamic programming tables F and TB, starting at [1][1]\n",
        "\t\t# Hints: The first row and first column of the table F[i][0] and F[0][j] are dummies\n",
        "\t\t#        (see for illustration Durbin p.21, Figure 2.5, but be careful what you\n",
        "\t\t#         think of as rows and what you think of as columns)\n",
        "\t\t#        Hence, the bases corresponding to F[i][j] are actually seq1[i-1] and seq2[j-1].\n",
        "\t\t#        Use the dictionary base_idx to convert from the character to an index to\n",
        "\t\t#         look up entries of the substitution matrix.\n",
        "\t\t#        To get started, you can complete and run the algorithm filling in only F,\n",
        "\t\t#         and then figure out how to do TB.\n",
        "\treturn F[len(seq1)][len(seq2)], F, TB"
      ],
      "execution_count": null,
      "outputs": []
    },
    {
      "cell_type": "code",
      "source": [],
      "metadata": {
        "id": "KGtGA8xmvUkF"
      },
      "execution_count": null,
      "outputs": []
    },
    {
      "cell_type": "markdown",
      "metadata": {
        "id": "X9-1NU5MhAP8"
      },
      "source": [
        "**B) Run the following code block to evaluate your Needleman-Wunsch algorithm implementation on two relatively simple sequences. If you make any edits to the code block, please restore it to the original version before turning it in.**"
      ]
    },
    {
      "cell_type": "code",
      "metadata": {
        "id": "b-GlK3XRSRtE",
        "outputId": "6b80e535-25c6-4cea-efab-fc1d25a90e01",
        "colab": {
          "base_uri": "https://localhost:8080/"
        }
      },
      "source": [
        "seq1, seq2 = \"CTAAGTACT\", \"CATTA\"\n",
        "\n",
        "score, F, TB, s1, s2 = getResults(seq1, seq2)\n",
        "\n",
        "print(\"\\n\".join([str(score), s1, s2]))\n",
        "for line in F:\n",
        "\tprint(line)"
      ],
      "execution_count": null,
      "outputs": [
        {
          "output_type": "stream",
          "name": "stdout",
          "text": [
            "-6\n",
            "CTAAGTACT\n",
            "C-AT-TA--\n",
            "[0, -4, -8, -12, -16, -20]\n",
            "[-4, 3, -1, -5, -9, -13]\n",
            "[-8, -1, 1, 2, -2, -6]\n",
            "[-12, -5, 2, -1, 0, 1]\n",
            "[-16, -9, -2, 0, -3, 3]\n",
            "[-20, -13, -6, -4, -2, -1]\n",
            "[-24, -17, -10, -3, -1, -4]\n",
            "[-28, -21, -14, -7, -5, 2]\n",
            "[-32, -25, -18, -11, -8, -2]\n",
            "[-36, -29, -22, -15, -8, -6]\n"
          ]
        }
      ]
    },
    {
      "cell_type": "markdown",
      "metadata": {
        "id": "mAxgO86efcpD"
      },
      "source": [
        "The Hox cluster is a set of genes that are crucial in determining body plan formation during embryo development. They are found in all bilateral animals, in species as distant as the fruit fly. The fruit fly has one Hox cluster, while most vertebrates have four. It is thought that vertebrates have undergone two rounds of whole-genome duplication, giving rise to four Hox clusters from the ancestral one, although the hypothesis remains controversial.\n",
        "\n",
        "In the remainder of this problem, you will use your Needleman-Wunsch implementation to analyze the sequences of several Hox genes, and estimate the date of the most recent vertebrate whole-genome duplication. In particular, we are interested in using the N-W alignment score as a distance metric between two sequences."
      ]
    },
    {
      "cell_type": "markdown",
      "metadata": {
        "id": "qsYHJaseBu_j"
      },
      "source": [
        "You will need to download the following [files](https://www.dropbox.com/sh/n0mhoinyc6vyhg4/AABJxeDjhF8RG-YBh1JTRTeia?dl=0) and upload them to colab using the following code block."
      ]
    },
    {
      "cell_type": "code",
      "metadata": {
        "id": "ZPOQBi20aI72",
        "colab": {
          "base_uri": "https://localhost:8080/",
          "height": 177
        },
        "outputId": "004b3858-439e-4b7c-e496-3f4671cc163a"
      },
      "source": [
        "hox_fa = files.upload()\n",
        "for k, v in hox_fa.items():\n",
        "    hox_fa[k] = readSeq(v.decode(\"utf-8\"))"
      ],
      "execution_count": null,
      "outputs": [
        {
          "output_type": "display_data",
          "data": {
            "text/plain": [
              "<IPython.core.display.HTML object>"
            ],
            "text/html": [
              "\n",
              "     <input type=\"file\" id=\"files-86a2c4a4-c73e-4b8f-b69c-bb24f3b61930\" name=\"files[]\" multiple disabled\n",
              "        style=\"border:none\" />\n",
              "     <output id=\"result-86a2c4a4-c73e-4b8f-b69c-bb24f3b61930\">\n",
              "      Upload widget is only available when the cell has been executed in the\n",
              "      current browser session. Please rerun this cell to enable.\n",
              "      </output>\n",
              "      <script>// Copyright 2017 Google LLC\n",
              "//\n",
              "// Licensed under the Apache License, Version 2.0 (the \"License\");\n",
              "// you may not use this file except in compliance with the License.\n",
              "// You may obtain a copy of the License at\n",
              "//\n",
              "//      http://www.apache.org/licenses/LICENSE-2.0\n",
              "//\n",
              "// Unless required by applicable law or agreed to in writing, software\n",
              "// distributed under the License is distributed on an \"AS IS\" BASIS,\n",
              "// WITHOUT WARRANTIES OR CONDITIONS OF ANY KIND, either express or implied.\n",
              "// See the License for the specific language governing permissions and\n",
              "// limitations under the License.\n",
              "\n",
              "/**\n",
              " * @fileoverview Helpers for google.colab Python module.\n",
              " */\n",
              "(function(scope) {\n",
              "function span(text, styleAttributes = {}) {\n",
              "  const element = document.createElement('span');\n",
              "  element.textContent = text;\n",
              "  for (const key of Object.keys(styleAttributes)) {\n",
              "    element.style[key] = styleAttributes[key];\n",
              "  }\n",
              "  return element;\n",
              "}\n",
              "\n",
              "// Max number of bytes which will be uploaded at a time.\n",
              "const MAX_PAYLOAD_SIZE = 100 * 1024;\n",
              "\n",
              "function _uploadFiles(inputId, outputId) {\n",
              "  const steps = uploadFilesStep(inputId, outputId);\n",
              "  const outputElement = document.getElementById(outputId);\n",
              "  // Cache steps on the outputElement to make it available for the next call\n",
              "  // to uploadFilesContinue from Python.\n",
              "  outputElement.steps = steps;\n",
              "\n",
              "  return _uploadFilesContinue(outputId);\n",
              "}\n",
              "\n",
              "// This is roughly an async generator (not supported in the browser yet),\n",
              "// where there are multiple asynchronous steps and the Python side is going\n",
              "// to poll for completion of each step.\n",
              "// This uses a Promise to block the python side on completion of each step,\n",
              "// then passes the result of the previous step as the input to the next step.\n",
              "function _uploadFilesContinue(outputId) {\n",
              "  const outputElement = document.getElementById(outputId);\n",
              "  const steps = outputElement.steps;\n",
              "\n",
              "  const next = steps.next(outputElement.lastPromiseValue);\n",
              "  return Promise.resolve(next.value.promise).then((value) => {\n",
              "    // Cache the last promise value to make it available to the next\n",
              "    // step of the generator.\n",
              "    outputElement.lastPromiseValue = value;\n",
              "    return next.value.response;\n",
              "  });\n",
              "}\n",
              "\n",
              "/**\n",
              " * Generator function which is called between each async step of the upload\n",
              " * process.\n",
              " * @param {string} inputId Element ID of the input file picker element.\n",
              " * @param {string} outputId Element ID of the output display.\n",
              " * @return {!Iterable<!Object>} Iterable of next steps.\n",
              " */\n",
              "function* uploadFilesStep(inputId, outputId) {\n",
              "  const inputElement = document.getElementById(inputId);\n",
              "  inputElement.disabled = false;\n",
              "\n",
              "  const outputElement = document.getElementById(outputId);\n",
              "  outputElement.innerHTML = '';\n",
              "\n",
              "  const pickedPromise = new Promise((resolve) => {\n",
              "    inputElement.addEventListener('change', (e) => {\n",
              "      resolve(e.target.files);\n",
              "    });\n",
              "  });\n",
              "\n",
              "  const cancel = document.createElement('button');\n",
              "  inputElement.parentElement.appendChild(cancel);\n",
              "  cancel.textContent = 'Cancel upload';\n",
              "  const cancelPromise = new Promise((resolve) => {\n",
              "    cancel.onclick = () => {\n",
              "      resolve(null);\n",
              "    };\n",
              "  });\n",
              "\n",
              "  // Wait for the user to pick the files.\n",
              "  const files = yield {\n",
              "    promise: Promise.race([pickedPromise, cancelPromise]),\n",
              "    response: {\n",
              "      action: 'starting',\n",
              "    }\n",
              "  };\n",
              "\n",
              "  cancel.remove();\n",
              "\n",
              "  // Disable the input element since further picks are not allowed.\n",
              "  inputElement.disabled = true;\n",
              "\n",
              "  if (!files) {\n",
              "    return {\n",
              "      response: {\n",
              "        action: 'complete',\n",
              "      }\n",
              "    };\n",
              "  }\n",
              "\n",
              "  for (const file of files) {\n",
              "    const li = document.createElement('li');\n",
              "    li.append(span(file.name, {fontWeight: 'bold'}));\n",
              "    li.append(span(\n",
              "        `(${file.type || 'n/a'}) - ${file.size} bytes, ` +\n",
              "        `last modified: ${\n",
              "            file.lastModifiedDate ? file.lastModifiedDate.toLocaleDateString() :\n",
              "                                    'n/a'} - `));\n",
              "    const percent = span('0% done');\n",
              "    li.appendChild(percent);\n",
              "\n",
              "    outputElement.appendChild(li);\n",
              "\n",
              "    const fileDataPromise = new Promise((resolve) => {\n",
              "      const reader = new FileReader();\n",
              "      reader.onload = (e) => {\n",
              "        resolve(e.target.result);\n",
              "      };\n",
              "      reader.readAsArrayBuffer(file);\n",
              "    });\n",
              "    // Wait for the data to be ready.\n",
              "    let fileData = yield {\n",
              "      promise: fileDataPromise,\n",
              "      response: {\n",
              "        action: 'continue',\n",
              "      }\n",
              "    };\n",
              "\n",
              "    // Use a chunked sending to avoid message size limits. See b/62115660.\n",
              "    let position = 0;\n",
              "    do {\n",
              "      const length = Math.min(fileData.byteLength - position, MAX_PAYLOAD_SIZE);\n",
              "      const chunk = new Uint8Array(fileData, position, length);\n",
              "      position += length;\n",
              "\n",
              "      const base64 = btoa(String.fromCharCode.apply(null, chunk));\n",
              "      yield {\n",
              "        response: {\n",
              "          action: 'append',\n",
              "          file: file.name,\n",
              "          data: base64,\n",
              "        },\n",
              "      };\n",
              "\n",
              "      let percentDone = fileData.byteLength === 0 ?\n",
              "          100 :\n",
              "          Math.round((position / fileData.byteLength) * 100);\n",
              "      percent.textContent = `${percentDone}% done`;\n",
              "\n",
              "    } while (position < fileData.byteLength);\n",
              "  }\n",
              "\n",
              "  // All done.\n",
              "  yield {\n",
              "    response: {\n",
              "      action: 'complete',\n",
              "    }\n",
              "  };\n",
              "}\n",
              "\n",
              "scope.google = scope.google || {};\n",
              "scope.google.colab = scope.google.colab || {};\n",
              "scope.google.colab._files = {\n",
              "  _uploadFiles,\n",
              "  _uploadFilesContinue,\n",
              "};\n",
              "})(self);\n",
              "</script> "
            ]
          },
          "metadata": {}
        },
        {
          "output_type": "stream",
          "name": "stdout",
          "text": [
            "Saving human_HoxA13.fa to human_HoxA13.fa\n",
            "Saving human_HoxD13.fa to human_HoxD13.fa\n",
            "Saving mouse_HoxA13.fa to mouse_HoxA13.fa\n",
            "Saving mouse_HoxD13.fa to mouse_HoxD13.fa\n"
          ]
        }
      ]
    },
    {
      "cell_type": "code",
      "source": [
        "from google.colab import drive\n",
        "drive.mount('/content/drive')"
      ],
      "metadata": {
        "id": "JDyF_w3AqnVn"
      },
      "execution_count": null,
      "outputs": []
    },
    {
      "cell_type": "markdown",
      "metadata": {
        "id": "SMh3sNQ4k3AN"
      },
      "source": [
        "**C) Make minor adjustments to your Needleman-Wunsch algorithm so that the score it computes can be interpreted as a distance metric. That is, the score of a sequence aligned with itself should be zero, all scores should be non-negative, and sequences that are more dissimilar should be given a score with a greater magnitude.**"
      ]
    },
    {
      "cell_type": "code",
      "metadata": {
        "id": "8uSP9pi1lDAB"
      },
      "source": [
        "def seqalignDP(seq1,seq2,subst_matrix,gap_pen):\n",
        "\tF = [[0 for j in range(len(seq2) + 1)] for i in range(len(seq1) + 1)]\n",
        "\tTB = [[PTR_NONE for j in range(len(seq2) + 1)] for i in range(len(seq1) + 1)]\n",
        "\n",
        "\tfor i in range(1,len(seq1) + 1):\n",
        "\t\tF[i][0] = 0 + i * gap_pen\n",
        "\t\tTB[i][0] = PTR_GAP2\n",
        "\tfor j in range(1,len(seq2) + 1):\n",
        "\t\tF[0][j] = 0 + j * gap_pen\n",
        "\t\tTB[0][j] = PTR_GAP1\n",
        "\n",
        "\tfor i in range(1,len(seq1) + 1):\n",
        "\t\t# YOUR CODE HERE\n",
        "\t\tfor j in range(1, len(seq2) + 1):\n",
        "\t\t\txi=base_idx[seq1[i-1]]\n",
        "\t\t\tyi=base_idx[seq2[j-1]]\n",
        "\t\t\tdlist=[(F[i-1][j]+gap_pen),(F[i][j-1]+gap_pen),(F[i-1][j-1]-subst_matrix[xi][yi])]\n",
        "\t\t\tdmin=min(dlist)\n",
        "\t\t\t#F[i][j]=dmin\n",
        "\t\t\tdindex=dlist.index(dmin)\n",
        "\t\t\tif dindex==0:\n",
        "\t\t\t\tF[i][j]=dmin\n",
        "\t\t\t\tTB[i][j]=PTR_GAP1\n",
        "\t\t\telif dindex==1:\n",
        "\t\t\t\tF[i][j]=dmin\n",
        "\t\t\t\tTB[i][j]=PTR_GAP2\n",
        "\t\t\telif xi==yi:\n",
        "\t\t\t\tF[i][j]=F[i-1][j-1]\n",
        "\t\t\t\tTB[i][j]=PTR_BASE\n",
        "\t\t\telse:\n",
        "\t\t\t\tF[i][j]=dmin\n",
        "\t\t\t\tTB[i][j]=PTR_BASE\n",
        "\n",
        "\n",
        "\treturn F[len(seq1)][len(seq2)], F, TB"
      ],
      "execution_count": null,
      "outputs": []
    },
    {
      "cell_type": "markdown",
      "metadata": {
        "id": "4WXHwzPilPug"
      },
      "source": [
        "**D) When you believe that your Needleman-Wunsch implementation has been adjusted appropriately, run the following code block to compute the distance between the human HoxA13 gene and the mouse HoxA13 gene.**"
      ]
    },
    {
      "cell_type": "code",
      "metadata": {
        "id": "9yzqKPg4lZMu",
        "colab": {
          "base_uri": "https://localhost:8080/"
        },
        "outputId": "064bdfaa-ef83-4445-abca-cba73ca97818"
      },
      "source": [
        "seq1, seq2 = hox_fa[\"human_HoxA13.fa\"], hox_fa[\"mouse_HoxA13.fa\"]\n",
        "\n",
        "score, F, TB, s1, s2 = getResults(seq1, seq2)\n",
        "\n",
        "print(score)\n",
        "print(\"\\n\".join([ s1, s2]))"
      ],
      "execution_count": null,
      "outputs": [
        {
          "output_type": "stream",
          "name": "stdout",
          "text": [
            "197\n",
            "ATGACAGCCTCCGTGCTCCTCCACCCCCGCTGGATCGAGCCCACCGTCATGTTTCTCTACGACAACGGCGGCGGCCTGGTGGCCGACGAGCTCAACAAGAACATGGAAGGGGCGGCGGCGGCTGCAGCAGCGGCTGCAGCGGCGGCGGCTGCCGGGGCCGGGGGCGGGGGCTTCCCCCACCCGGCGGCTGCGGCGGCAGGGGGCAACTTCTCGGTGGCGGCGGCGGCCGCGGCTGCGGCGGCGGCCGCGGCCAACCAGTGCCGCAACCTGATGGCGCACCCGGCGCCCTTGGCGCCAGGAGCCGCGTCCGCCTACAGCAGCGCCCCCGGGGAGGCGCCCCCGTCGGCTGCCGCCGCTGCTGCCGCGGCTGCCGCTGCAGCCGCCGCCGCCGCCGCCGCGTCGTCCTCGGGAGGTCCCGGCCCGGCGGGCCCGGCGGGCGCAGAGGCCGCCAAGCAATGCAGCCCCTGCTCGGCAGCGGCGCA-G--A--------G---CT---------C--G-TCG-G------G----G--------C--C--C-GCGGC-G-C---T---------G--C--C-----C-T-------------------------------------------------A----------------T---------GGCT-------------------A---CT---T-------------------------------------C---G--G----C--A--GCG------G-----CT-----------A------C-T-------------------A-------------------C-CCGT-G-CG-C-CCGCA-------------------------------T--------------------GGG-CC-C----G-C-A---C-CC---CA----A---------------C-GC-C--A--------------------------T----C-A-------A---G----T---CGTGCG--CGCA-------G----CC--CG----C----C-T---CG--GCC-GC--C-GCCGCCGCCGCCTTCGCGGACAAGTACATGGATACCGCCGGCCCAGCTGCCGAGGAGTTCAGCTCCCGCGCTAAGGAGTTCGCCTTCTACCACCAGGGCTACGCAGCCGGGCCTTACCACCACCATCAGCCCATGCCTGGCTACCTGGATATGCCAGTGGTGCCGGGCCTCGGGGGCCCCGGCGAGTCGCGCCACGAACCCTTGGGTCTTCCCATGGAAAGCTACCAGCCCTGGGCGCTGCCCAACGGCTGGAACGGCCAAATGTACTGCCCCAAAGAGCAGGCGCAGCCTCCCCACCTCTGGAAGTCCACTCTGCCCGACGTGGTCTCCCATCCCTCGGATGCCAGCTCCTATAGGAGGGGGAGAAAGAAGCGCGTGCCTTATACCAAGGTGCAATTAAAAGAACTTGAACGGGAATACGCCACGAATAAATTCATTACTAAGGACAAACGGAGGCGGATATCAGCCACGACGAATCTCTCTGAGCGGCAGGTCACAATCTGGTTCCAGAACAGGAGGGTTAAAGAGAAAAAAGTCATCAACAAACTGAAAACCACTAGTTAA\n",
            "-------------------------------------------------------------------------------------------------------------------------------------------------------------------------------------------------------------------------------------------------------------------------------------------------------------------------------------------------------------------------------------------------------------------------------------------------------------------------------------------------ATGACAGCCTCCGTGCTCCTCCACCCCCGCTGGATCGAGCCCACCGTCATGTTTCTCTACGACAACGGCGGCGGCCTGGTGGCCGACGAGCTCAACAAGAACATGGAAGGGGCGGCGGCGGCGGCACGGGCGGCGGCCGGCGGCGGCGGCGGGAGCTGGGGGCGGGGGCTTCCCCCACCCGGCTGCCGCGGCCGCGGGGGGCAACTTCTCGGTGGCCGCAGCGGCGCCGCCGCCCGCCGCCGCGGCCAACCAGTGCCGCAACCTGATGGCGCATCCCGCACCCCTCGCCCGGCGCCGCGGCCGCGTACAGCAGCGCCCCGGGGGAGGCGCCCCCGTCCGCCGCGCCGCCGCCGCCGCCGCCGCTGCTGCGCGCCGCCGCGGCTGCCGCGTCGTCGTCGGGAGGGCCCGGGCCGGCGGGGCCCGCGGGTGCCGAGGCCGCCAAGCAGTGCAGTCCCTGCTCGGCGGCGGCACAGAGCTCGTCGGGGCCCGCGGCGCTGCCCTACGGCTACTTCGGCAGCGGCTACTACCCGTGCGCCCGCATGGGCCCGCACCCCAACGCCATCAAGTCGTGCGCGCAGCCTGCTTCGGCCGCCGCCGCCTTCGCCGACAAGTACATGGACACCGCCGGCCCCGCGGCCGAGGAGTTCAGCTCCCGCGCCAAGGAGTTTGCTTTCTACCATCAGGGCTACGCAGCCGGGCCTTACCACCATCACCAGCCCGTGCCCGGCTACCTGGATATGCCAGTAGTTCCGGGGCTCGGGGGTCCTGGCGAGTCGCGCCACGAGCCTCTGGGGCTTCCCATGGAAAGCTATCAGCCCTGGGCTCTGCCCAACGGCTGGAACGGCCAAATGTACTGCCCCAAAGAGCAGACGCAGCCTCCCCACCTCTGGAAGTCCACTCTGCCCGACGTCGTCTCCCATCCTTCAGACGCCAGCTCCTATAGGAGGGGGAGAAAGAAGCGCGTGCCTTACACTAAGGTGCAGTTGAAAGAACTCGAACGGGAATACGCTACGAACAAATTCATTACCAAGGACAAACGGAGGAGGATATCAGCCACGACAAACCTCTCTGAGAGGCAGGTCACAATCTGGTTCCAGAACAGGAGGGTCAAAGAGAAAAAAGTCATCAATAAACTCAAGACCACTAGTTAA\n"
          ]
        }
      ]
    },
    {
      "cell_type": "markdown",
      "metadata": {
        "id": "WmKUZD9Kmjfz"
      },
      "source": [
        "**E) The modern mammalian genes HoxA13 and HoxD13 arose from a single ancestral gene by whole-genome duplication, long before the human-mouse divergence. We provide the sequences of the human and mouse HoxD13 genes on the web site. Given that the fossil record shows that human and mouse diverged about 70 million years ago, use your distance metric and your results from part (C) to estimate the date of the whole-genome duplication that gave rise to HoxA13 and HoxD13. Make sure to state the assumptions underlying your estimate.**"
      ]
    },
    {
      "cell_type": "code",
      "metadata": {
        "id": "ITdbV0tYmpOa",
        "colab": {
          "base_uri": "https://localhost:8080/"
        },
        "outputId": "70fd1fa9-11cd-42d8-ed4f-9e8e64f83874"
      },
      "source": [
        "# Insert code here\n",
        "#Assumption,\n",
        "# Score 197=70 million years\n",
        "# Score 1=70/197 million years\n",
        "\n",
        "seq1, seq2 = hox_fa[\"human_HoxA13.fa\"], hox_fa[\"human_HoxD13.fa\"]\n",
        "\n",
        "score1, F, TB, s1, s2 = getResults(seq1, seq2)\n",
        "\n",
        "print(score1)\n",
        "print(\"Date of whole-genome duplication that gave rise to HoxA13 and HoxD13 for Human is\", score1*70/197, \"million years\")\n",
        "\n",
        "seq1, seq2 = hox_fa[\"mouse_HoxA13.fa\"], hox_fa[\"mouse_HoxD13.fa\"]\n",
        "\n",
        "score2, F, TB, s1, s2 = getResults(seq1, seq2)\n",
        "\n",
        "print(score2)\n",
        "print(\"Date of whole-genome duplication that gave rise to HoxA13 and HoxD13 for Mouse is\", score2*70/197,\"million years\" )\n",
        "\n",
        "\n",
        "seq1, seq2 = hox_fa[\"human_HoxD13.fa\"], hox_fa[\"mouse_HoxA13.fa\"]\n",
        "\n",
        "score4, F, TB, s1, s2 = getResults(seq1, seq2)\n",
        "\n",
        "print(score4)\n",
        "print(\"Date of whole-genome duplication that gave rise to HoxA13 for Human  and HoxD13 for Mouse is\", score4*70/197,\"million years\" )\n",
        "\n",
        "seq1, seq2 = hox_fa[\"mouse_HoxD13.fa\"], hox_fa[\"human_HoxA13.fa\"]\n",
        "\n",
        "score3, F, TB, s1, s2 = getResults(seq1, seq2)\n",
        "\n",
        "print(score3)\n",
        "print(\"Date of whole-genome duplication that gave rise to HoxA13 for Human  and HoxD13 for Mouse is\", score3*70/197,\"million years\" )\n",
        "\n",
        "average=((score1+score2+score3+score4)*70/197)/4\n",
        "print(\"The date of the whole-genome duplication that gave rise to HoxA13 and HoxD13 is \", average, \"million years\")\n",
        "\n",
        "\n"
      ],
      "execution_count": null,
      "outputs": [
        {
          "output_type": "stream",
          "name": "stdout",
          "text": [
            "1145\n",
            "Date of whole-genome duplication that gave rise to HoxA13 and HoxD13 for Human is 406.8527918781726 million years\n",
            "1095\n",
            "Date of whole-genome duplication that gave rise to HoxA13 and HoxD13 for Mouse is 389.0862944162437 million years\n",
            "1103\n",
            "Date of whole-genome duplication that gave rise to HoxA13 for Human  and HoxD13 for Mouse is 391.92893401015226 million years\n",
            "1129\n",
            "Date of whole-genome duplication that gave rise to HoxA13 for Human  and HoxD13 for Mouse is 401.16751269035535 million years\n",
            "The date of the whole-genome duplication that gave rise to HoxA13 and HoxD13 is  397.25888324873097 million years\n"
          ]
        }
      ]
    },
    {
      "cell_type": "markdown",
      "metadata": {
        "id": "YBkq4F0bmpkn"
      },
      "source": [
        "**Answer here:**\n",
        "\n",
        "Date of whole-genome duplication that gave rise to HoxA13 and HoxD13 for Human is 406.8527918781726 million years\n",
        "\n",
        "Date of whole-genome duplication that gave rise to HoxA13 and HoxD13 for Mouse is 389.0862944162437 million years\n",
        "\n",
        "Date of whole-genome duplication that gave rise to HoxA13 for Human  and HoxD13 for Mouse is 391.92893401015226 million years\n",
        "\n",
        "Date of whole-genome duplication that gave rise to HoxA13 for Human  and HoxD13 for Mouse is 401.16751269035535 million years\n",
        "\n",
        "The date of the whole-genome duplication that gave rise to HoxA13 and HoxD13 is  397.25888324873097 million years"
      ]
    },
    {
      "cell_type": "markdown",
      "metadata": {
        "id": "XhE9cZrFpcDO"
      },
      "source": [
        "#Sequence hashing and dotplot visualization\n",
        "\n",
        "As you have seen in the previous problem, sequence alignment is a quadratic time algorithm. Full sequence alignment is therefore only feasible for sequences near the length of a single gene. To align larger regions of a genome, heuristic approximations are typically used. In this problem, you will use hashing techniques to guide the alignment of a 1 megabase (1 million nucleotides) region surrounding the HoxA cluster in human (`human-hoxa-region.fa`) and mouse (`mouse-hoxa-region.fa`). You will use dotplots to visualize the performance of various hashing methodologies."
      ]
    },
    {
      "cell_type": "markdown",
      "metadata": {
        "id": "y_dQboyT-v9M"
      },
      "source": [
        "You will need to download the following [files](https://www.dropbox.com/sh/4bvkqibn4pt9dty/AABXPS8WMXfHswT2PIR8KdGXa?dl=0) and upload them to colab using the following code block."
      ]
    },
    {
      "cell_type": "code",
      "metadata": {
        "id": "HvxoFg17-wGi",
        "colab": {
          "base_uri": "https://localhost:8080/",
          "height": 142
        },
        "outputId": "2ad81dff-eae7-4f04-f401-9fd8a9c66677"
      },
      "source": [
        "hox_fa_add = files.upload()\n",
        "for k, v in hox_fa_add.items():\n",
        "    hox_fa_add[k] = readSeq(v.decode(\"utf-8\"))"
      ],
      "execution_count": null,
      "outputs": [
        {
          "output_type": "display_data",
          "data": {
            "text/plain": [
              "<IPython.core.display.HTML object>"
            ],
            "text/html": [
              "\n",
              "     <input type=\"file\" id=\"files-51e1f7c8-7b40-40fd-89a4-8d00d5ba079d\" name=\"files[]\" multiple disabled\n",
              "        style=\"border:none\" />\n",
              "     <output id=\"result-51e1f7c8-7b40-40fd-89a4-8d00d5ba079d\">\n",
              "      Upload widget is only available when the cell has been executed in the\n",
              "      current browser session. Please rerun this cell to enable.\n",
              "      </output>\n",
              "      <script>// Copyright 2017 Google LLC\n",
              "//\n",
              "// Licensed under the Apache License, Version 2.0 (the \"License\");\n",
              "// you may not use this file except in compliance with the License.\n",
              "// You may obtain a copy of the License at\n",
              "//\n",
              "//      http://www.apache.org/licenses/LICENSE-2.0\n",
              "//\n",
              "// Unless required by applicable law or agreed to in writing, software\n",
              "// distributed under the License is distributed on an \"AS IS\" BASIS,\n",
              "// WITHOUT WARRANTIES OR CONDITIONS OF ANY KIND, either express or implied.\n",
              "// See the License for the specific language governing permissions and\n",
              "// limitations under the License.\n",
              "\n",
              "/**\n",
              " * @fileoverview Helpers for google.colab Python module.\n",
              " */\n",
              "(function(scope) {\n",
              "function span(text, styleAttributes = {}) {\n",
              "  const element = document.createElement('span');\n",
              "  element.textContent = text;\n",
              "  for (const key of Object.keys(styleAttributes)) {\n",
              "    element.style[key] = styleAttributes[key];\n",
              "  }\n",
              "  return element;\n",
              "}\n",
              "\n",
              "// Max number of bytes which will be uploaded at a time.\n",
              "const MAX_PAYLOAD_SIZE = 100 * 1024;\n",
              "\n",
              "function _uploadFiles(inputId, outputId) {\n",
              "  const steps = uploadFilesStep(inputId, outputId);\n",
              "  const outputElement = document.getElementById(outputId);\n",
              "  // Cache steps on the outputElement to make it available for the next call\n",
              "  // to uploadFilesContinue from Python.\n",
              "  outputElement.steps = steps;\n",
              "\n",
              "  return _uploadFilesContinue(outputId);\n",
              "}\n",
              "\n",
              "// This is roughly an async generator (not supported in the browser yet),\n",
              "// where there are multiple asynchronous steps and the Python side is going\n",
              "// to poll for completion of each step.\n",
              "// This uses a Promise to block the python side on completion of each step,\n",
              "// then passes the result of the previous step as the input to the next step.\n",
              "function _uploadFilesContinue(outputId) {\n",
              "  const outputElement = document.getElementById(outputId);\n",
              "  const steps = outputElement.steps;\n",
              "\n",
              "  const next = steps.next(outputElement.lastPromiseValue);\n",
              "  return Promise.resolve(next.value.promise).then((value) => {\n",
              "    // Cache the last promise value to make it available to the next\n",
              "    // step of the generator.\n",
              "    outputElement.lastPromiseValue = value;\n",
              "    return next.value.response;\n",
              "  });\n",
              "}\n",
              "\n",
              "/**\n",
              " * Generator function which is called between each async step of the upload\n",
              " * process.\n",
              " * @param {string} inputId Element ID of the input file picker element.\n",
              " * @param {string} outputId Element ID of the output display.\n",
              " * @return {!Iterable<!Object>} Iterable of next steps.\n",
              " */\n",
              "function* uploadFilesStep(inputId, outputId) {\n",
              "  const inputElement = document.getElementById(inputId);\n",
              "  inputElement.disabled = false;\n",
              "\n",
              "  const outputElement = document.getElementById(outputId);\n",
              "  outputElement.innerHTML = '';\n",
              "\n",
              "  const pickedPromise = new Promise((resolve) => {\n",
              "    inputElement.addEventListener('change', (e) => {\n",
              "      resolve(e.target.files);\n",
              "    });\n",
              "  });\n",
              "\n",
              "  const cancel = document.createElement('button');\n",
              "  inputElement.parentElement.appendChild(cancel);\n",
              "  cancel.textContent = 'Cancel upload';\n",
              "  const cancelPromise = new Promise((resolve) => {\n",
              "    cancel.onclick = () => {\n",
              "      resolve(null);\n",
              "    };\n",
              "  });\n",
              "\n",
              "  // Wait for the user to pick the files.\n",
              "  const files = yield {\n",
              "    promise: Promise.race([pickedPromise, cancelPromise]),\n",
              "    response: {\n",
              "      action: 'starting',\n",
              "    }\n",
              "  };\n",
              "\n",
              "  cancel.remove();\n",
              "\n",
              "  // Disable the input element since further picks are not allowed.\n",
              "  inputElement.disabled = true;\n",
              "\n",
              "  if (!files) {\n",
              "    return {\n",
              "      response: {\n",
              "        action: 'complete',\n",
              "      }\n",
              "    };\n",
              "  }\n",
              "\n",
              "  for (const file of files) {\n",
              "    const li = document.createElement('li');\n",
              "    li.append(span(file.name, {fontWeight: 'bold'}));\n",
              "    li.append(span(\n",
              "        `(${file.type || 'n/a'}) - ${file.size} bytes, ` +\n",
              "        `last modified: ${\n",
              "            file.lastModifiedDate ? file.lastModifiedDate.toLocaleDateString() :\n",
              "                                    'n/a'} - `));\n",
              "    const percent = span('0% done');\n",
              "    li.appendChild(percent);\n",
              "\n",
              "    outputElement.appendChild(li);\n",
              "\n",
              "    const fileDataPromise = new Promise((resolve) => {\n",
              "      const reader = new FileReader();\n",
              "      reader.onload = (e) => {\n",
              "        resolve(e.target.result);\n",
              "      };\n",
              "      reader.readAsArrayBuffer(file);\n",
              "    });\n",
              "    // Wait for the data to be ready.\n",
              "    let fileData = yield {\n",
              "      promise: fileDataPromise,\n",
              "      response: {\n",
              "        action: 'continue',\n",
              "      }\n",
              "    };\n",
              "\n",
              "    // Use a chunked sending to avoid message size limits. See b/62115660.\n",
              "    let position = 0;\n",
              "    do {\n",
              "      const length = Math.min(fileData.byteLength - position, MAX_PAYLOAD_SIZE);\n",
              "      const chunk = new Uint8Array(fileData, position, length);\n",
              "      position += length;\n",
              "\n",
              "      const base64 = btoa(String.fromCharCode.apply(null, chunk));\n",
              "      yield {\n",
              "        response: {\n",
              "          action: 'append',\n",
              "          file: file.name,\n",
              "          data: base64,\n",
              "        },\n",
              "      };\n",
              "\n",
              "      let percentDone = fileData.byteLength === 0 ?\n",
              "          100 :\n",
              "          Math.round((position / fileData.byteLength) * 100);\n",
              "      percent.textContent = `${percentDone}% done`;\n",
              "\n",
              "    } while (position < fileData.byteLength);\n",
              "  }\n",
              "\n",
              "  // All done.\n",
              "  yield {\n",
              "    response: {\n",
              "      action: 'complete',\n",
              "    }\n",
              "  };\n",
              "}\n",
              "\n",
              "scope.google = scope.google || {};\n",
              "scope.google.colab = scope.google.colab || {};\n",
              "scope.google.colab._files = {\n",
              "  _uploadFiles,\n",
              "  _uploadFilesContinue,\n",
              "};\n",
              "})(self);\n",
              "</script> "
            ]
          },
          "metadata": {}
        },
        {
          "output_type": "stream",
          "name": "stdout",
          "text": [
            "Saving human-hoxa-region.fa to human-hoxa-region.fa\n",
            "Saving human-hoxa-region-modified.fa to human-hoxa-region-modified.fa\n",
            "Saving mouse-hoxa-region.fa to mouse-hoxa-region.fa\n"
          ]
        }
      ]
    },
    {
      "cell_type": "markdown",
      "metadata": {
        "id": "9ra609eDYXTM"
      },
      "source": [
        "The code block below finds all 30-mers in the human that also appear in mouse. On a dotplot, each of these matches is represented as a single dot at $(x,y)$, where $x$ is a coordinate for the beginning of a 30-mer in human and $y$ is a coordinate for the beginning of a matching 30-mer in mouse. We provide a plotting function that will produce dotplot images.  The format of the image is determined by the file extension (`.ps`, `.png`, `.jpg`). There is also code for heuristically judging the *specificity* of the matches (the fraction of matches that occur near the diagonal of the dotplot)."
      ]
    },
    {
      "cell_type": "code",
      "metadata": {
        "id": "fWq2edmDzRkp"
      },
      "source": [
        "bp_dict = {'A': 'T', 'T': 'A', 'C': 'G', 'G': 'C'}\n",
        "\n",
        "def quality(hits):\n",
        "    \"\"\"determines the quality of a list of hits\"\"\"\n",
        "    slope1 = 1.0e6 / (825000 - 48000)\n",
        "    slope2 = 1.0e6 / (914000 - 141000)\n",
        "    offset1 = 0 - slope1*48000\n",
        "    offset2 = 0 - slope2*141000\n",
        "    goodhits = []\n",
        "    for hit in hits:\n",
        "        upper = slope1 * hit[0] + offset1\n",
        "        lower = slope2 * hit[0] + offset2\n",
        "        if lower < hit[1] < upper:\n",
        "            goodhits.append(hit)\n",
        "    return goodhits\n",
        "\n",
        "def makeDotplot(hits):\n",
        "    \"\"\"generate a dotplot from a list of hits\n",
        "       filename may end in the following file extensions:\n",
        "         *.ps, *.png, *.jpg\n",
        "    \"\"\"\n",
        "    x, y = zip(* hits)\n",
        "    slope1 = 1.0e6 / (825000 - 48000)\n",
        "    slope2 = 1.0e6 / (914000 - 141000)\n",
        "    offset1 = 0 - slope1*48000\n",
        "    offset2 = 0 - slope2*141000\n",
        "    hits2 = quality(hits)\n",
        "\n",
        "    # create plot\n",
        "    plt.scatter(x, y, marker = \"+\", color = \"purple\")\n",
        "    plt.xlabel(\"sequence2\")\n",
        "    plt.xlim(0, 1e6)\n",
        "    plt.ylabel(\"sequence 1\")\n",
        "    plt.ylim(0, 1e6)\n",
        "    plt.title(\"dotplot (%d hits, %.5f%% hits on diagonal)\" %\n",
        "              (len(hits), 100 * len(hits2) / float(len(hits))))\n",
        "    plt.plot(x, [slope1 * val + offset1 for val in x], color = \"blue\")\n",
        "    plt.plot(x, [slope2 * val + offset2 for val in x], color = \"blue\")\n",
        "\n",
        "    return"
      ],
      "execution_count": null,
      "outputs": []
    },
    {
      "cell_type": "markdown",
      "metadata": {
        "id": "skkxrnFDs0vO"
      },
      "source": [
        "**A) Run the following code block unchanged to generate a dotplot for all exact matching 30-mers.**\n",
        "\n",
        "**Describe what you see. How many hits are there and what percentage fall near the diagonal? Do you observe any structure in the off-diagonal hits? What types of genomic elements could cause such a pattern? Why are matches that are close to the diagonal more likely than off-diagonal matches to represent \"correct\", or orthologous, alignments?**"
      ]
    },
    {
      "cell_type": "code",
      "metadata": {
        "id": "WhKu0w_6EwwM",
        "colab": {
          "base_uri": "https://localhost:8080/",
          "height": 330
        },
        "outputId": "870a2739-97ba-4d66-cf78-2051aa01ff07"
      },
      "source": [
        "seq1 = readSeq(hox_fa_add[\"human-hoxa-region.fa\"])\n",
        "seq2 = readSeq(hox_fa_add[\"mouse-hoxa-region.fa\"])\n",
        "kmerlen = 30\n",
        "\n",
        "print(\"hashing seq1\")\n",
        "lookup = {}\n",
        "for i in range(len(seq1) - kmerlen + 1):\n",
        "    key = seq1[i:i + kmerlen]\n",
        "    lookup.setdefault(key, []).append(i)\n",
        "\n",
        "print(\"hashing seq2\")\n",
        "hits = []\n",
        "for i in range(len(seq2) - kmerlen + 1):\n",
        "    key = seq2[i:i + kmerlen]\n",
        "    for hit in lookup.get(key, []):\n",
        "        hits.append((i, hit))\n",
        "\n",
        "makeDotplot(hits)"
      ],
      "execution_count": null,
      "outputs": [
        {
          "output_type": "stream",
          "name": "stdout",
          "text": [
            "hashing seq1\n",
            "hashing seq2\n"
          ]
        },
        {
          "output_type": "display_data",
          "data": {
            "text/plain": [
              "<Figure size 432x288 with 1 Axes>"
            ],
            "image/png": "[encoded data removed]"
          },
          "metadata": {
            "needs_background": "light"
          }
        }
      ]
    },
    {
      "cell_type": "markdown",
      "metadata": {
        "id": "4GSuuyFRZJlO"
      },
      "source": [
        "**Describe what you see. How many hits are there and what percentage fall near the diagonal? Do you observe any structure in the off-diagonal hits? What types of genomic elements could cause such a pattern? Why are matches that are close to the diagonal more likely than off-diagonal matches to represent \"correct\", or orthologous, alignments?**\n",
        "**Answer here:** Closer to the diagnoal, the hits on the one side looks like the mirror image of another side, but as we move away from the line the pattern disappers. There are about 62829 hits and about 25% fall near the diagonal. There does not seem to be any pattern farther away from the diagnonal. They could be the hits in the background as 30 base pair may not necessarily represent any meaningful sequence. The matches that are close to the diagonal more likely than off-diagonal matches to represent corret alignments because they could be a part of some meaningful sequence as I imagine meaningful sequences preserve their spatial location in genome."
      ]
    },
    {
      "cell_type": "markdown",
      "metadata": {
        "id": "gjPlozwwZMcJ"
      },
      "source": [
        "**B) Make the following modifications to the script and report how the plot changes qualitatively and quantatively (how many hits, what percentage are near the diagonal). Also briefly describe how you implemented each change.**\n",
        "\n",
        "1. **Modify the script to find all *exact* matching 100-mers**\n",
        "2. **Modify the script to find all 60-mers that match every *other* base**\n",
        "3. **Modify the script to find all 90-mers that match every *third* base**\n",
        "4. **Modify the script to find all 120-mers that match every *fourth* base**\n",
        "5. **Modify the script to find all 100-mers that allow at *most two* mismatches in each contiguous block of six bases. Instead of modifying the script and generating the plot, focus on describing how you would implement this modification.**\n",
        "\n",
        "**Use the following code and text block to implement your changes and record your results, respectively.**\n",
        "\n"
      ]
    },
    {
      "cell_type": "code",
      "metadata": {
        "id": "P9Bd7ByDzlDk",
        "colab": {
          "base_uri": "https://localhost:8080/",
          "height": 330
        },
        "outputId": "41a8650c-5f40-461f-fcbe-c52386c30bf7"
      },
      "source": [
        "seq1 = readSeq(hox_fa_add[\"human-hoxa-region.fa\"])\n",
        "seq2 = readSeq(hox_fa_add[\"mouse-hoxa-region.fa\"])\n",
        "kmerlen = 120\n",
        "\n",
        "print(\"hashing seq1\")\n",
        "lookup = {}\n",
        "for i in range(len(seq1) - kmerlen + 1):\n",
        "    key = seq1[i:i + kmerlen:4]\n",
        "    lookup.setdefault(key, []).append(i)\n",
        "\n",
        "print(\"hashing seq2\")\n",
        "hits = []\n",
        "for i in range(len(seq2) - kmerlen + 1):\n",
        "    key = seq2[i:i + kmerlen:4]\n",
        "    for hit in lookup.get(key, []):\n",
        "        hits.append((i, hit))\n",
        "\n",
        "makeDotplot(hits)"
      ],
      "execution_count": null,
      "outputs": [
        {
          "output_type": "stream",
          "name": "stdout",
          "text": [
            "hashing seq1\n",
            "hashing seq2\n"
          ]
        },
        {
          "output_type": "display_data",
          "data": {
            "text/plain": [
              "<Figure size 432x288 with 1 Axes>"
            ],
            "image/png": "[encoded data removed]"
          },
          "metadata": {
            "needs_background": "light"
          }
        }
      ]
    },
    {
      "cell_type": "markdown",
      "metadata": {
        "id": "z6JlDAAbZtDN"
      },
      "source": [
        "**Answer here:**\n",
        "\n",
        "1. Changed the kmerlen to 100. All the hits only lie in the diagonal stripe. There are about 30 hits and 100% of them line the the diagonal stripe.\n",
        "2. Changed the kmerlen to 60, and while genereating the keys skipped every 2nd letter(key = seq1[i:i + kmerlen:2]). 38.7% of the hits lie in the diagonal strip out of total 23933 hits. There is no obvious pattern.\n",
        "3. Changed the kmerlen to 90, and while genereating the keys only every 3rd letter is picked. 93.8% of hits lie in the diagonal stripe out of total 8887 hits. Only 4 hits are out of the diagonal strip. In the diagonal strip, there are 4 clusters of hits, and the the cluster in the center of the strip is the densest.\n",
        "4. Changed the kmerlen to 120, and while genereating the keys only every 4th letter is picked. 82.1% of hits lie in the diagonal stripe out of total 6044 hits. There are three clusters of htis in the diagonal strip, and the center custer is the densest.\n",
        "5. First generate 1st 100-mer from each strand, and compare the six letters of the each 100-mers at a time(we can generate 6-mers for from the 100-mers to compare). Case 1, there is no mismatch, then shift the 6-letter frame to right by one letter and again compare. If case 1, occurs, shift right again by one letter. Case 2, if there is one mismatch, then shift the 6-letter frame to right by one letter and again compare. Case 3, if there is two mismatch, then shift the 6-letter frame to right by one letter and again compare. Case 4, if there is three mismatch, then reject the 100-mers. And now create, 2nd pair of 100-mers starting 95th position of the 1st 100-mers, and repeat 6-letter comparision at a time.  "
      ]
    },
    {
      "cell_type": "markdown",
      "metadata": {
        "id": "ZV6SQ7G-atYE"
      },
      "source": [
        "**C) Although parts a, b.ii, b.iii, and b.iv require the same number of matching bases (30 = 60/2 = 90/3 = 120/4), one of them is more specific to the diagonal. Explain why this might be so.**"
      ]
    },
    {
      "cell_type": "markdown",
      "metadata": {
        "id": "G0x7zMhJbZ07"
      },
      "source": [
        "**Answer here:**\n",
        "90/3 is more specifi to the diagonal perhaps because it lies between to little skips to catch hits in TATA boxes or too many skips to catch random hits caught by 120/4. Also Codens comes in the sequence of 3 length, so skipping ever three letter may help it catch the same reading frame."
      ]
    },
    {
      "cell_type": "markdown",
      "metadata": {
        "id": "VteM-u0_bb0W"
      },
      "source": [
        "**D) Explain the trade-off you see between number of hits near the diagonal (sensitivity) and the percentage of hits near the diagonal (specificity). How is the trade-off affected by the hashing parameters?**"
      ]
    },
    {
      "cell_type": "markdown",
      "metadata": {
        "id": "QLP9uag9bb3B"
      },
      "source": [
        "**Answer here:** The more sensitive (that is smaller size k-mer) the hashing parameter is the specificity of hits is less( that is small portion of hits fall near diagonal). Conversely, the less sensitive the hasing parameter is the speficity of hits is more."
      ]
    },
    {
      "cell_type": "markdown",
      "metadata": {
        "id": "M9Ilb8tobwN3"
      },
      "source": [
        "**E) Modify the script to also detect inversions. An inversion occurs when a stretch of DNA is spliced out and reinserted in reverse orientation. For example,**\n",
        "\n",
        "**CGT[GATT]AGA**\n",
        "\n",
        "**CGT[AATC]AGA**\n",
        "\n",
        "**The `human-hoxa-region-modified.fa` file contains a version of the Hox region with an artificial inversion. Use the dotplot to locate the inversion in human. (Note: ignore the sensitivity measure, and only test all sizes necessary to detect the inversion). For convenience, the starter dotplot code is provided below.**\n",
        "\n"
      ]
    },
    {
      "cell_type": "code",
      "metadata": {
        "id": "qWy-U6Lhdhft",
        "colab": {
          "base_uri": "https://localhost:8080/",
          "height": 330
        },
        "outputId": "b1baf660-058a-4711-8834-23e7c1118853"
      },
      "source": [
        "seq1 = readSeq(hox_fa_add[\"human-hoxa-region.fa\"])\n",
        "seq2 = readSeq(hox_fa_add[\"human-hoxa-region-modified.fa\"])\n",
        "\n",
        "\n",
        "\n",
        "seq2=seq2[::-1]\n",
        "\n",
        "kmerlen = 77\n",
        "\n",
        "\n",
        "print(\"hashing seq1\")\n",
        "lookup = {}\n",
        "for i in range(len(seq1) - kmerlen + 1):\n",
        "    key = seq1[i:i + kmerlen]\n",
        "    lookup.setdefault(key, []).append(i)\n",
        "\n",
        "print(\"hashing seq2\")\n",
        "hits = []\n",
        "for i in range(len(seq2) - kmerlen + 1):\n",
        "    key = seq2[i:i + kmerlen]\n",
        "    for hit in lookup.get(key, []):\n",
        "        hits.append((i, hit))\n",
        "\n",
        "makeDotplot(hits)"
      ],
      "execution_count": null,
      "outputs": [
        {
          "output_type": "stream",
          "name": "stdout",
          "text": [
            "hashing seq1\n",
            "hashing seq2\n"
          ]
        },
        {
          "output_type": "display_data",
          "data": {
            "text/plain": [
              "<Figure size 432x288 with 1 Axes>"
            ],
            "image/png": "[encoded data removed]"
          },
          "metadata": {
            "needs_background": "light"
          }
        }
      ]
    },
    {
      "cell_type": "markdown",
      "metadata": {
        "id": "cB4YXAs1fYu0"
      },
      "source": [
        "**Answer here:**\n",
        "There is one 77-mer"
      ]
    },
    {
      "cell_type": "markdown",
      "metadata": {
        "id": "xyr-rbhvfr8k"
      },
      "source": [
        "#HMMs for GC-rich regions: State durations and limitations\n",
        "\n",
        "An important use of HMMs is to decode or parse a genome into its biological components: exons, introns, regulatory regions, etc. In this problem, we will examine how the accuracy of HMM predictions is affected by certain inherent properties of the model.\n",
        "\n",
        "In this problem, we will use GC content (the fraction of letters that are a C or a G) to classify the genome into high-GC regions (on average 60\\% G or C) and Low-GC regions (on average 60\\% A or T). These have different melting temperatures, different replication times across the cell cycle, and different gene density. They have also been hypothesized to have different evolutionary origins (see *isochores*}), but this hypothesis remains controversial."
      ]
    },
    {
      "cell_type": "markdown",
      "metadata": {
        "id": "qDiOYh0CwQWv"
      },
      "source": [
        "**A) In most HMMs, the self-loop transition probabilities $a_{kk}$ are large, while the transition probabilities between different states $a_{kl}$ are small. Once a Markov chain with these transition probabilities enters state $k$, it tends to stay in state $k$ for a while. The *state duration* is the total number of consecutive steps at which the Markov chain stays in the same state, before switching to another state (e.g. transitioning into state $k$ and then transitioning out to a different state is a state duration of 1).  What is the expected (mean) state duration of state $k$ as a function of the transition probability $a_{kk}$? What is the distribution of state durations $P(D_{k}=d)$?**"
      ]
    },
    {
      "cell_type": "markdown",
      "metadata": {
        "id": "l_PxoREGw3MI"
      },
      "source": [
        "**Answer here:**\n",
        "The expected (mean) state duration of state k is $1/(1-a_{kk})$.\n",
        "The distribution of state durations  P(Dk=d) is $a_{kk}^{n}*(1-a_{kk})$."
      ]
    },
    {
      "cell_type": "markdown",
      "metadata": {
        "id": "Vu6EL4ccwMzE"
      },
      "source": [
        "**B) Our simple model requires only two states. You will complete the code block below to implement the Viterbi algorithm.**\n",
        "\n",
        "The nearly complete Viterbi algorithm does the following:\n",
        "\n",
        "* Reads in a data file containing a DNA sequence and an authoritative (correct) annotation, consisting of a string of pluses and minuses, specifying where the High-GC and Low-GC regions are, respectively.\n",
        "* Calculates the base composition of the High-GC and Low-GC regions and the mean length of High-GC and Low-GC regions. (All with respect to the authoritative annotation.)\n",
        "* Performs Viterbi decoding on the DNA sequence, using a hard-coded HMM designed to detect High-GC and Low-GC regions. (This is the part you will complete.)\n",
        "* Calculates the base composition of the High-GC and Low-GC regions and the mean length of High-GC and Low-GC regions. (All with respect to the Viterbi annotation.)\n",
        "* Calculates the accuracy of the Viterbi decoding, defined as the percentage of predicted plus and minus states that match the authoritative annotation.\n",
        "\n",
        "**This will allow you to decode several artificial genomes, and then compare the resulting predictions of High-GC and Low-GC regions to a provided (correct) annotation. Based on the HMM parameters hard-coded into the algorithm, what are the expected state durations for High-GC and Low-GC regions?**\n",
        "\n",
        "**Ans**\n",
        "The expected state durations for High-GC and Low-GC regions is 100"
      ]
    },
    {
      "cell_type": "code",
      "metadata": {
        "id": "qVx4clmgptUf"
      },
      "source": [
        "###############################################################################\n",
        "# HMM PARAMETERS\n",
        "# Conventions: + refers to High-GC, and - refers to Low-GC. When indexing\n",
        "#  states, 0 is + and 1 is -.\n",
        "###############################################################################\n",
        "\n",
        "state_idx = { '+' : 0, '-' : 1 }\n",
        "\n",
        "# initial distribution over states, i.e. probability of starting in state k\n",
        "init_dist = [0.5,0.5]\n",
        "\n",
        "# transition probabilities\n",
        "tr = [\n",
        "    #  to+   to-\n",
        "    [ 0.99, 0.01 ], # from+\n",
        "    [ 0.01, 0.99 ]  # from-\n",
        "]\n",
        "\n",
        "# emission probabilities\n",
        "em = [\n",
        "    #    A     G     C     T\n",
        "    [ 0.20, 0.30, 0.30, 0.20], # +\n",
        "    [ 0.30, 0.20, 0.20, 0.30]  # -\n",
        "]\n",
        "\n",
        "###############################################################################\n",
        "# ANNOTATION BENCHMARKING\n",
        "###############################################################################\n",
        "\n",
        "def basecomp(X, anno):\n",
        "    counts = [[0] * 4, [0] * 4]\n",
        "    for i in range(len(X)):\n",
        "        counts[anno[i]][X[i]] += 1\n",
        "    sum0 = sum(counts[0])\n",
        "    sum1 = sum(counts[1])\n",
        "    return [[x / sum0 for x in counts[0]], [x / sum1 for x in counts[1]]]\n",
        "\n",
        "def region_lengths(anno):\n",
        "    lengths = [[], []]\n",
        "    curlen = 1\n",
        "    for i in range(1, len(anno)):\n",
        "        if anno[i] == anno[i - 1]:\n",
        "            curlen += 1\n",
        "        else:\n",
        "            lengths[anno[i - 1]].append(curlen)\n",
        "            curlen = 1\n",
        "    lengths[anno[len(anno) - 1]].append(curlen)\n",
        "    return lengths\n",
        "\n",
        "def anno_accuracy(refanno, testanno):\n",
        "    assert len(refanno) == len(testanno)\n",
        "    return str(sum([x == y for x, y in zip(refanno, testanno)]) / len(refanno) * 100) + \"%\"\n",
        "\n",
        "def basecomp_str(b):\n",
        "    return \"A=%.2f%% G=%.2f%% C=%.2f%% T=%.2f%%\" % (100 * b[0], 100 * b[1], 100 * b[2], 100 * b[3])\n",
        "\n",
        "def print_annostats(X, anno, label):\n",
        "    lengths = region_lengths(anno)\n",
        "    basecomps = basecomp(X,anno)\n",
        "\n",
        "    print(\"High-GC mean region length: \", int(round(sum(lengths[0]) / len(lengths[0]))))\n",
        "    print(\"High-GC base composition: \", basecomp_str(basecomps[0]))\n",
        "    print(\"Low-GC mean region length: \", int(round(sum(lengths[1]) / len(lengths[1]))))\n",
        "    print(\"Low-GC base composition: \", basecomp_str(basecomps[1]))\n",
        "\n",
        "    fig, (ax1, ax2) = plt.subplots(2, 1, sharex = True)\n",
        "    ax1.set_title(label + \" High-GC\")\n",
        "    ax1.hist(lengths[0], bins = 20)\n",
        "    ax2.set_title(label + \" Low-GC\")\n",
        "    ax2.hist(lengths[1], bins = 20)\n",
        "    plt.show()\n",
        "\n",
        "def print_summary(X, refanno, testanno):\n",
        "    print(\"Authoritative annotation statistics\")\n",
        "    print(\"-----------------------------------\")\n",
        "    print_annostats(X, refanno, \"Authoritative\")\n",
        "    print(\"\")\n",
        "\n",
        "    print(\"Viterbi annotation statistics\")\n",
        "    print(\"-----------------------------------\")\n",
        "    print_annostats(X, testanno, \"Viterbi\")\n",
        "    print(\"\")\n",
        "\n",
        "    print(\"Accuracy: \" + anno_accuracy(refanno, testanno))\n",
        "\n",
        "###############################################################################\n",
        "# VITERBI ALGORITHM (you must complete)\n",
        "# Note: The length of the sequences we are dealing with is large enough that it\n",
        "#       is necessary to use log-probabilities for numerical stability. You will\n",
        "#       need to adapt the formulae accordingly.\n",
        "###############################################################################\n",
        "\n",
        "def viterbi(X):\n",
        "    \"\"\"Returns the Viterbi path for the emission sequence X.\n",
        "    X should be a list of integers, 0=A, 1=G, 2=C, 3=T.\n",
        "    The returned Y is a list of integers, 0=High-GC, 1=Low-GC.\n",
        "    \"\"\"\n",
        "    N = len(tr)\n",
        "    L = len(X)\n",
        "    assert len(em) == N\n",
        "    V = [[0]*N for _ in range(L)]\n",
        "    TB = [[0]*N for _ in range(L)]\n",
        "    for i in range(L):\n",
        "        Vprev = []\n",
        "        if i == 0:\n",
        "            Vprev = [log(pk0) for pk0 in init_dist]\n",
        "        else:\n",
        "            Vprev = V[i-1]\n",
        "        for k in range(N):\n",
        "            # YOUR CODE HERE\n",
        "            trintm=[Vprev[m]+log(tr[m][k]) for m in range(N)]\n",
        "            emmintm=log(em[k][X[i]])\n",
        "            V[i][k]=emmintm+max(trintm)\n",
        "            TB[i][k]=trintm.index(max(trintm))\n",
        "\n",
        "            # Set V[i][k] to the appropriate value for the Viterbi matrix, based\n",
        "            #  on Vprev (V[i-1]) and the model parameters.\n",
        "            # Set TB[i][k] to the selected previous state (0 or 1 corresponding\n",
        "            #  to + or -)\n",
        "            # To receive full credit, your code should in theory work on any\n",
        "            #  valid emission and transition matrices, not just the ones hard-\n",
        "            #  coded into this program.\n",
        "            # See note about log probabilities above.\n",
        "\n",
        "    # perform traceback and return the predicted hidden state sequence\n",
        "    Y = [-1 for i in range(L)]\n",
        "    _, yL = max([ (V[L - 1][k], k) for k in range(N)])\n",
        "    Y[L - 1] = yL\n",
        "    for i in range(L - 2, -1, -1):\n",
        "        Y[i] = TB[i + 1][Y[i + 1]]\n",
        "    return Y"
      ],
      "execution_count": null,
      "outputs": []
    },
    {
      "cell_type": "markdown",
      "metadata": {
        "id": "1s6jzE1u7M4c"
      },
      "source": [
        "You will need to download the following [files](https://www.dropbox.com/sh/fvj6x0yxy6lpy6x/AAAb4Ufph_QgN3zlRBMAyyaqa?dl=0) and upload them to colab using the following code block."
      ]
    },
    {
      "cell_type": "code",
      "metadata": {
        "id": "4gXlHZjn4wXF",
        "colab": {
          "base_uri": "https://localhost:8080/",
          "height": 177
        },
        "outputId": "54dd37c9-06da-4a12-a598-122fd829f831"
      },
      "source": [
        "hmm = files.upload()\n",
        "for k, v in hmm.items():\n",
        "    hmm[k] = v.decode(\"utf-8\").split(\"\\n\")"
      ],
      "execution_count": null,
      "outputs": [
        {
          "output_type": "display_data",
          "data": {
            "text/plain": [
              "<IPython.core.display.HTML object>"
            ],
            "text/html": [
              "\n",
              "     <input type=\"file\" id=\"files-3afc1591-984e-42d5-a4c7-6b69488b35a9\" name=\"files[]\" multiple disabled\n",
              "        style=\"border:none\" />\n",
              "     <output id=\"result-3afc1591-984e-42d5-a4c7-6b69488b35a9\">\n",
              "      Upload widget is only available when the cell has been executed in the\n",
              "      current browser session. Please rerun this cell to enable.\n",
              "      </output>\n",
              "      <script>// Copyright 2017 Google LLC\n",
              "//\n",
              "// Licensed under the Apache License, Version 2.0 (the \"License\");\n",
              "// you may not use this file except in compliance with the License.\n",
              "// You may obtain a copy of the License at\n",
              "//\n",
              "//      http://www.apache.org/licenses/LICENSE-2.0\n",
              "//\n",
              "// Unless required by applicable law or agreed to in writing, software\n",
              "// distributed under the License is distributed on an \"AS IS\" BASIS,\n",
              "// WITHOUT WARRANTIES OR CONDITIONS OF ANY KIND, either express or implied.\n",
              "// See the License for the specific language governing permissions and\n",
              "// limitations under the License.\n",
              "\n",
              "/**\n",
              " * @fileoverview Helpers for google.colab Python module.\n",
              " */\n",
              "(function(scope) {\n",
              "function span(text, styleAttributes = {}) {\n",
              "  const element = document.createElement('span');\n",
              "  element.textContent = text;\n",
              "  for (const key of Object.keys(styleAttributes)) {\n",
              "    element.style[key] = styleAttributes[key];\n",
              "  }\n",
              "  return element;\n",
              "}\n",
              "\n",
              "// Max number of bytes which will be uploaded at a time.\n",
              "const MAX_PAYLOAD_SIZE = 100 * 1024;\n",
              "\n",
              "function _uploadFiles(inputId, outputId) {\n",
              "  const steps = uploadFilesStep(inputId, outputId);\n",
              "  const outputElement = document.getElementById(outputId);\n",
              "  // Cache steps on the outputElement to make it available for the next call\n",
              "  // to uploadFilesContinue from Python.\n",
              "  outputElement.steps = steps;\n",
              "\n",
              "  return _uploadFilesContinue(outputId);\n",
              "}\n",
              "\n",
              "// This is roughly an async generator (not supported in the browser yet),\n",
              "// where there are multiple asynchronous steps and the Python side is going\n",
              "// to poll for completion of each step.\n",
              "// This uses a Promise to block the python side on completion of each step,\n",
              "// then passes the result of the previous step as the input to the next step.\n",
              "function _uploadFilesContinue(outputId) {\n",
              "  const outputElement = document.getElementById(outputId);\n",
              "  const steps = outputElement.steps;\n",
              "\n",
              "  const next = steps.next(outputElement.lastPromiseValue);\n",
              "  return Promise.resolve(next.value.promise).then((value) => {\n",
              "    // Cache the last promise value to make it available to the next\n",
              "    // step of the generator.\n",
              "    outputElement.lastPromiseValue = value;\n",
              "    return next.value.response;\n",
              "  });\n",
              "}\n",
              "\n",
              "/**\n",
              " * Generator function which is called between each async step of the upload\n",
              " * process.\n",
              " * @param {string} inputId Element ID of the input file picker element.\n",
              " * @param {string} outputId Element ID of the output display.\n",
              " * @return {!Iterable<!Object>} Iterable of next steps.\n",
              " */\n",
              "function* uploadFilesStep(inputId, outputId) {\n",
              "  const inputElement = document.getElementById(inputId);\n",
              "  inputElement.disabled = false;\n",
              "\n",
              "  const outputElement = document.getElementById(outputId);\n",
              "  outputElement.innerHTML = '';\n",
              "\n",
              "  const pickedPromise = new Promise((resolve) => {\n",
              "    inputElement.addEventListener('change', (e) => {\n",
              "      resolve(e.target.files);\n",
              "    });\n",
              "  });\n",
              "\n",
              "  const cancel = document.createElement('button');\n",
              "  inputElement.parentElement.appendChild(cancel);\n",
              "  cancel.textContent = 'Cancel upload';\n",
              "  const cancelPromise = new Promise((resolve) => {\n",
              "    cancel.onclick = () => {\n",
              "      resolve(null);\n",
              "    };\n",
              "  });\n",
              "\n",
              "  // Wait for the user to pick the files.\n",
              "  const files = yield {\n",
              "    promise: Promise.race([pickedPromise, cancelPromise]),\n",
              "    response: {\n",
              "      action: 'starting',\n",
              "    }\n",
              "  };\n",
              "\n",
              "  cancel.remove();\n",
              "\n",
              "  // Disable the input element since further picks are not allowed.\n",
              "  inputElement.disabled = true;\n",
              "\n",
              "  if (!files) {\n",
              "    return {\n",
              "      response: {\n",
              "        action: 'complete',\n",
              "      }\n",
              "    };\n",
              "  }\n",
              "\n",
              "  for (const file of files) {\n",
              "    const li = document.createElement('li');\n",
              "    li.append(span(file.name, {fontWeight: 'bold'}));\n",
              "    li.append(span(\n",
              "        `(${file.type || 'n/a'}) - ${file.size} bytes, ` +\n",
              "        `last modified: ${\n",
              "            file.lastModifiedDate ? file.lastModifiedDate.toLocaleDateString() :\n",
              "                                    'n/a'} - `));\n",
              "    const percent = span('0% done');\n",
              "    li.appendChild(percent);\n",
              "\n",
              "    outputElement.appendChild(li);\n",
              "\n",
              "    const fileDataPromise = new Promise((resolve) => {\n",
              "      const reader = new FileReader();\n",
              "      reader.onload = (e) => {\n",
              "        resolve(e.target.result);\n",
              "      };\n",
              "      reader.readAsArrayBuffer(file);\n",
              "    });\n",
              "    // Wait for the data to be ready.\n",
              "    let fileData = yield {\n",
              "      promise: fileDataPromise,\n",
              "      response: {\n",
              "        action: 'continue',\n",
              "      }\n",
              "    };\n",
              "\n",
              "    // Use a chunked sending to avoid message size limits. See b/62115660.\n",
              "    let position = 0;\n",
              "    do {\n",
              "      const length = Math.min(fileData.byteLength - position, MAX_PAYLOAD_SIZE);\n",
              "      const chunk = new Uint8Array(fileData, position, length);\n",
              "      position += length;\n",
              "\n",
              "      const base64 = btoa(String.fromCharCode.apply(null, chunk));\n",
              "      yield {\n",
              "        response: {\n",
              "          action: 'append',\n",
              "          file: file.name,\n",
              "          data: base64,\n",
              "        },\n",
              "      };\n",
              "\n",
              "      let percentDone = fileData.byteLength === 0 ?\n",
              "          100 :\n",
              "          Math.round((position / fileData.byteLength) * 100);\n",
              "      percent.textContent = `${percentDone}% done`;\n",
              "\n",
              "    } while (position < fileData.byteLength);\n",
              "  }\n",
              "\n",
              "  // All done.\n",
              "  yield {\n",
              "    response: {\n",
              "      action: 'complete',\n",
              "    }\n",
              "  };\n",
              "}\n",
              "\n",
              "scope.google = scope.google || {};\n",
              "scope.google.colab = scope.google.colab || {};\n",
              "scope.google.colab._files = {\n",
              "  _uploadFiles,\n",
              "  _uploadFilesContinue,\n",
              "};\n",
              "})(self);\n",
              "</script> "
            ]
          },
          "metadata": {}
        },
        {
          "output_type": "stream",
          "name": "stdout",
          "text": [
            "Saving hmmgen to hmmgen\n",
            "Saving mystery1 to mystery1\n",
            "Saving mystery2 to mystery2\n",
            "Saving mystery3 to mystery3\n"
          ]
        }
      ]
    },
    {
      "cell_type": "markdown",
      "metadata": {
        "id": "I4L4PgNA4aQ6"
      },
      "source": [
        "**C) Run the following code block to apply your Viterbi implementation to the data file `hmmgen`, which was generated using the same HMM, and verify that your program achieves 83% accuracy.**"
      ]
    },
    {
      "cell_type": "code",
      "metadata": {
        "id": "cSC8oZo_8sc9",
        "colab": {
          "base_uri": "https://localhost:8080/",
          "height": 805
        },
        "outputId": "acc61070-4ea0-4a26-fdd3-835c301eb3a2"
      },
      "source": [
        "seq = [base_idx[bp] for bp in hmm['hmmgen'][0]]\n",
        "ref = [state_idx[ann] for ann in hmm['hmmgen'][1]]\n",
        "test = viterbi(seq)\n",
        "\n",
        "print_summary(seq, ref, test)"
      ],
      "execution_count": null,
      "outputs": [
        {
          "output_type": "stream",
          "name": "stdout",
          "text": [
            "Authoritative annotation statistics\n",
            "-----------------------------------\n",
            "High-GC mean region length:  100\n",
            "High-GC base composition:  A=20.01% G=29.87% C=30.02% T=20.10%\n",
            "Low-GC mean region length:  102\n",
            "Low-GC base composition:  A=29.63% G=19.94% C=20.20% T=30.23%\n"
          ]
        },
        {
          "output_type": "display_data",
          "data": {
            "text/plain": [
              "<Figure size 432x288 with 2 Axes>"
            ],
            "image/png": "[encoded data removed]"
          },
          "metadata": {
            "needs_background": "light"
          }
        },
        {
          "output_type": "stream",
          "name": "stdout",
          "text": [
            "\n",
            "Viterbi annotation statistics\n",
            "-----------------------------------\n",
            "High-GC mean region length:  350\n",
            "High-GC base composition:  A=20.37% G=29.55% C=29.58% T=20.49%\n",
            "Low-GC mean region length:  354\n",
            "Low-GC base composition:  A=29.31% G=20.22% C=20.60% T=29.87%\n"
          ]
        },
        {
          "output_type": "display_data",
          "data": {
            "text/plain": [
              "<Figure size 432x288 with 2 Axes>"
            ],
            "image/png": "[encoded data removed]"
          },
          "metadata": {
            "needs_background": "light"
          }
        },
        {
          "output_type": "stream",
          "name": "stdout",
          "text": [
            "\n",
            "Accuracy: 83.315%\n"
          ]
        }
      ]
    },
    {
      "cell_type": "markdown",
      "metadata": {
        "id": "XSHJ-K-BWl4E"
      },
      "source": [
        "**D) The following code block applies your Viterbi implementation to 3 mystery files (`mystery1`, `mystery2`, and `mystery3`). How do the (correct) state duration distributions in the mystery sequences differ and what do they have in common? What accuracy levels does your HMM achieve on these sequences? How does each Viterbi-predicted state duration distribution differ from the correct distribution?**\n",
        "\n",
        "**Ans** The correct state duration distribution in the mystery sequences have consistently longer average High GC region, and low GC region length. Moreover, they have similar distribution shape. They slightly differ from each other in the height of the individual bars in their distribution.\n",
        "\n",
        "Accuracy:\n",
        "M1:71.96%\n",
        "M2:68.79%\n",
        "M3:67.71%\n",
        "\n",
        "For M2, and M3, the Viterbi-predicted state duration distribution is normal shaped, while correct distribution is similar to the right half of the normal distriution.\n",
        "\n",
        "For M1, the Viterbi-predicted state duration distribution is uniform, but the correct distribution is similar to the right half of the normal distriution.\n",
        "\n"
      ]
    },
    {
      "cell_type": "code",
      "metadata": {
        "id": "siMJel8FXpVD",
        "colab": {
          "base_uri": "https://localhost:8080/",
          "height": 1000
        },
        "outputId": "c7dc46ca-7adf-4c40-f097-bda6f737bd23"
      },
      "source": [
        "for i in range(1, 4):\n",
        "    seq = [base_idx[bp] for bp in hmm['mystery' + str(i)][0]]\n",
        "    ref = [state_idx[ann] for ann in hmm['mystery' + str(i)][1]]\n",
        "    test = viterbi(seq)\n",
        "    print_summary(seq, ref, test)\n",
        "    print(\"\\n\")"
      ],
      "execution_count": null,
      "outputs": [
        {
          "output_type": "stream",
          "name": "stdout",
          "text": [
            "Authoritative annotation statistics\n",
            "-----------------------------------\n",
            "High-GC mean region length:  100\n",
            "High-GC base composition:  A=19.94% G=29.87% C=30.20% T=20.00%\n",
            "Low-GC mean region length:  101\n",
            "Low-GC base composition:  A=29.87% G=20.27% C=19.73% T=30.13%\n"
          ]
        },
        {
          "output_type": "display_data",
          "data": {
            "text/plain": [
              "<Figure size 432x288 with 2 Axes>"
            ],
            "image/png": "[encoded data removed]"
          },
          "metadata": {
            "needs_background": "light"
          }
        },
        {
          "output_type": "stream",
          "name": "stdout",
          "text": [
            "\n",
            "Viterbi annotation statistics\n",
            "-----------------------------------\n",
            "High-GC mean region length:  234\n",
            "High-GC base composition:  A=20.51% G=29.18% C=29.40% T=20.91%\n",
            "Low-GC mean region length:  220\n",
            "Low-GC base composition:  A=29.62% G=20.66% C=20.20% T=29.52%\n"
          ]
        },
        {
          "output_type": "display_data",
          "data": {
            "text/plain": [
              "<Figure size 432x288 with 2 Axes>"
            ],
            "image/png": "[encoded data removed]"
          },
          "metadata": {
            "needs_background": "light"
          }
        },
        {
          "output_type": "stream",
          "name": "stdout",
          "text": [
            "\n",
            "Accuracy: 71.962%\n",
            "\n",
            "\n",
            "Authoritative annotation statistics\n",
            "-----------------------------------\n",
            "High-GC mean region length:  100\n",
            "High-GC base composition:  A=19.85% G=29.78% C=30.07% T=20.30%\n",
            "Low-GC mean region length:  100\n",
            "Low-GC base composition:  A=29.84% G=19.86% C=19.99% T=30.31%\n"
          ]
        },
        {
          "output_type": "display_data",
          "data": {
            "text/plain": [
              "<Figure size 432x288 with 2 Axes>"
            ],
            "image/png": "[encoded data removed]"
          },
          "metadata": {
            "needs_background": "light"
          }
        },
        {
          "output_type": "stream",
          "name": "stdout",
          "text": [
            "\n",
            "Viterbi annotation statistics\n",
            "-----------------------------------\n",
            "High-GC mean region length:  215\n",
            "High-GC base composition:  A=20.56% G=29.15% C=29.46% T=20.83%\n",
            "Low-GC mean region length:  212\n",
            "Low-GC base composition:  A=29.16% G=20.45% C=20.56% T=29.83%\n"
          ]
        },
        {
          "output_type": "display_data",
          "data": {
            "text/plain": [
              "<Figure size 432x288 with 2 Axes>"
            ],
            "image/png": "[encoded data removed]"
          },
          "metadata": {
            "needs_background": "light"
          }
        },
        {
          "output_type": "stream",
          "name": "stdout",
          "text": [
            "\n",
            "Accuracy: 68.798%\n",
            "\n",
            "\n",
            "Authoritative annotation statistics\n",
            "-----------------------------------\n",
            "High-GC mean region length:  100\n",
            "High-GC base composition:  A=19.81% G=29.71% C=30.56% T=19.91%\n",
            "Low-GC mean region length:  100\n",
            "Low-GC base composition:  A=29.56% G=20.09% C=20.11% T=30.24%\n"
          ]
        },
        {
          "output_type": "display_data",
          "data": {
            "text/plain": [
              "<Figure size 432x288 with 2 Axes>"
            ],
            "image/png": "[encoded data removed]"
          },
          "metadata": {
            "needs_background": "light"
          }
        },
        {
          "output_type": "stream",
          "name": "stdout",
          "text": [
            "\n",
            "Viterbi annotation statistics\n",
            "-----------------------------------\n",
            "High-GC mean region length:  222\n",
            "High-GC base composition:  A=20.56% G=29.05% C=29.84% T=20.55%\n",
            "Low-GC mean region length:  207\n",
            "Low-GC base composition:  A=29.10% G=20.46% C=20.53% T=29.91%\n"
          ]
        },
        {
          "output_type": "display_data",
          "data": {
            "text/plain": [
              "<Figure size 432x288 with 2 Axes>"
            ],
            "image/png": "[encoded data removed]"
          },
          "metadata": {
            "needs_background": "light"
          }
        },
        {
          "output_type": "stream",
          "name": "stdout",
          "text": [
            "\n",
            "Accuracy: 67.718%\n",
            "\n",
            "\n"
          ]
        }
      ]
    },
    {
      "cell_type": "markdown",
      "metadata": {
        "id": "16wK1v-RhTfw"
      },
      "source": [
        "**E) Would re-training the HMM parameters according to the procedure described in lecture, using the correct annotations as training data, improve the accuracy of the Viterbi annotation for the mystery sequences? Why or why not?**\n",
        "\n",
        "**(Extra credit) Try to make the decoder perform better by adjusting the hard-coded model parameters. If you succeed, can you explain why?**"
      ]
    },
    {
      "cell_type": "markdown",
      "metadata": {
        "id": "NiYzQ7PbhffH"
      },
      "source": [
        "**Answer here:** Yes, because retraining would tune the transition parameters to the nature of the data. So the accuracy might improve."
      ]
    },
    {
      "cell_type": "markdown",
      "metadata": {
        "id": "IzB4R0mwhi5S"
      },
      "source": [
        "**F) As you are now aware, the length distribution of genomic elements can strongly affect the predictive accuracy of an HMM used to decode them. Unfortunately, most elements in real genomes do not follow the length distribution you derived in part (A). By reading the following paper (or any other sources), describe how the gene under GENSCAN addresses this issue. How is it possible, algorithmically, to use state duration distributions that differ from the one you derived in part (A)?**\n",
        "\n",
        "**Burge C, Karlin S. Prediction of complete gene structures in human genomic DNA. J Mol Bio 268(1):78-94, 1997.**"
      ]
    },
    {
      "cell_type": "markdown",
      "metadata": {
        "id": "Nl5kgxLgh02u"
      },
      "source": [
        "**Answer here:** The GENSCAN uses a fifth-order Markov model that calculates the probability of the sixth base based on the previous five bases in the sequence. In addition GENSCAN also accounts for the probability of occurrence of the state depending on the position within the sequence by including inhomogenous Markov model.  "
      ]
    },
    {
      "cell_type": "markdown",
      "source": [
        "# Evolutionary Signature of Motifs\n",
        "\n",
        "In this problem, you will search for enriched (over-represented) $k$-mers in regions conserved across the yeast clade *Saccharomyces*."
      ],
      "metadata": {
        "id": "Il6UqyGQLKvx"
      }
    },
    {
      "cell_type": "markdown",
      "metadata": {
        "id": "TFtg1JpN1u1b"
      },
      "source": [
        "You will need to download the following [files](https://www.dropbox.com/sh/tx0p18sx4daw50t/AAC5_T1bRboHw_Di7sjxgpuya?dl=0) and upload them to colab using the following code block."
      ]
    },
    {
      "cell_type": "code",
      "metadata": {
        "id": "qlyDn1Q7-oGo",
        "colab": {
          "base_uri": "https://localhost:8080/",
          "height": 107
        },
        "outputId": "18cb19be-8091-4d9c-fb4b-1d82399b5dea"
      },
      "source": [
        "intergenic = files.upload()\n",
        "for k, v in intergenic.items():\n",
        "    intergenic[k] = v.decode(\"utf-8-sig\")"
      ],
      "execution_count": null,
      "outputs": [
        {
          "output_type": "display_data",
          "data": {
            "text/plain": [
              "<IPython.core.display.HTML object>"
            ],
            "text/html": [
              "\n",
              "     <input type=\"file\" id=\"files-d8171229-717c-4987-854d-d79f24de3574\" name=\"files[]\" multiple disabled\n",
              "        style=\"border:none\" />\n",
              "     <output id=\"result-d8171229-717c-4987-854d-d79f24de3574\">\n",
              "      Upload widget is only available when the cell has been executed in the\n",
              "      current browser session. Please rerun this cell to enable.\n",
              "      </output>\n",
              "      <script>// Copyright 2017 Google LLC\n",
              "//\n",
              "// Licensed under the Apache License, Version 2.0 (the \"License\");\n",
              "// you may not use this file except in compliance with the License.\n",
              "// You may obtain a copy of the License at\n",
              "//\n",
              "//      http://www.apache.org/licenses/LICENSE-2.0\n",
              "//\n",
              "// Unless required by applicable law or agreed to in writing, software\n",
              "// distributed under the License is distributed on an \"AS IS\" BASIS,\n",
              "// WITHOUT WARRANTIES OR CONDITIONS OF ANY KIND, either express or implied.\n",
              "// See the License for the specific language governing permissions and\n",
              "// limitations under the License.\n",
              "\n",
              "/**\n",
              " * @fileoverview Helpers for google.colab Python module.\n",
              " */\n",
              "(function(scope) {\n",
              "function span(text, styleAttributes = {}) {\n",
              "  const element = document.createElement('span');\n",
              "  element.textContent = text;\n",
              "  for (const key of Object.keys(styleAttributes)) {\n",
              "    element.style[key] = styleAttributes[key];\n",
              "  }\n",
              "  return element;\n",
              "}\n",
              "\n",
              "// Max number of bytes which will be uploaded at a time.\n",
              "const MAX_PAYLOAD_SIZE = 100 * 1024;\n",
              "\n",
              "function _uploadFiles(inputId, outputId) {\n",
              "  const steps = uploadFilesStep(inputId, outputId);\n",
              "  const outputElement = document.getElementById(outputId);\n",
              "  // Cache steps on the outputElement to make it available for the next call\n",
              "  // to uploadFilesContinue from Python.\n",
              "  outputElement.steps = steps;\n",
              "\n",
              "  return _uploadFilesContinue(outputId);\n",
              "}\n",
              "\n",
              "// This is roughly an async generator (not supported in the browser yet),\n",
              "// where there are multiple asynchronous steps and the Python side is going\n",
              "// to poll for completion of each step.\n",
              "// This uses a Promise to block the python side on completion of each step,\n",
              "// then passes the result of the previous step as the input to the next step.\n",
              "function _uploadFilesContinue(outputId) {\n",
              "  const outputElement = document.getElementById(outputId);\n",
              "  const steps = outputElement.steps;\n",
              "\n",
              "  const next = steps.next(outputElement.lastPromiseValue);\n",
              "  return Promise.resolve(next.value.promise).then((value) => {\n",
              "    // Cache the last promise value to make it available to the next\n",
              "    // step of the generator.\n",
              "    outputElement.lastPromiseValue = value;\n",
              "    return next.value.response;\n",
              "  });\n",
              "}\n",
              "\n",
              "/**\n",
              " * Generator function which is called between each async step of the upload\n",
              " * process.\n",
              " * @param {string} inputId Element ID of the input file picker element.\n",
              " * @param {string} outputId Element ID of the output display.\n",
              " * @return {!Iterable<!Object>} Iterable of next steps.\n",
              " */\n",
              "function* uploadFilesStep(inputId, outputId) {\n",
              "  const inputElement = document.getElementById(inputId);\n",
              "  inputElement.disabled = false;\n",
              "\n",
              "  const outputElement = document.getElementById(outputId);\n",
              "  outputElement.innerHTML = '';\n",
              "\n",
              "  const pickedPromise = new Promise((resolve) => {\n",
              "    inputElement.addEventListener('change', (e) => {\n",
              "      resolve(e.target.files);\n",
              "    });\n",
              "  });\n",
              "\n",
              "  const cancel = document.createElement('button');\n",
              "  inputElement.parentElement.appendChild(cancel);\n",
              "  cancel.textContent = 'Cancel upload';\n",
              "  const cancelPromise = new Promise((resolve) => {\n",
              "    cancel.onclick = () => {\n",
              "      resolve(null);\n",
              "    };\n",
              "  });\n",
              "\n",
              "  // Wait for the user to pick the files.\n",
              "  const files = yield {\n",
              "    promise: Promise.race([pickedPromise, cancelPromise]),\n",
              "    response: {\n",
              "      action: 'starting',\n",
              "    }\n",
              "  };\n",
              "\n",
              "  cancel.remove();\n",
              "\n",
              "  // Disable the input element since further picks are not allowed.\n",
              "  inputElement.disabled = true;\n",
              "\n",
              "  if (!files) {\n",
              "    return {\n",
              "      response: {\n",
              "        action: 'complete',\n",
              "      }\n",
              "    };\n",
              "  }\n",
              "\n",
              "  for (const file of files) {\n",
              "    const li = document.createElement('li');\n",
              "    li.append(span(file.name, {fontWeight: 'bold'}));\n",
              "    li.append(span(\n",
              "        `(${file.type || 'n/a'}) - ${file.size} bytes, ` +\n",
              "        `last modified: ${\n",
              "            file.lastModifiedDate ? file.lastModifiedDate.toLocaleDateString() :\n",
              "                                    'n/a'} - `));\n",
              "    const percent = span('0% done');\n",
              "    li.appendChild(percent);\n",
              "\n",
              "    outputElement.appendChild(li);\n",
              "\n",
              "    const fileDataPromise = new Promise((resolve) => {\n",
              "      const reader = new FileReader();\n",
              "      reader.onload = (e) => {\n",
              "        resolve(e.target.result);\n",
              "      };\n",
              "      reader.readAsArrayBuffer(file);\n",
              "    });\n",
              "    // Wait for the data to be ready.\n",
              "    let fileData = yield {\n",
              "      promise: fileDataPromise,\n",
              "      response: {\n",
              "        action: 'continue',\n",
              "      }\n",
              "    };\n",
              "\n",
              "    // Use a chunked sending to avoid message size limits. See b/62115660.\n",
              "    let position = 0;\n",
              "    do {\n",
              "      const length = Math.min(fileData.byteLength - position, MAX_PAYLOAD_SIZE);\n",
              "      const chunk = new Uint8Array(fileData, position, length);\n",
              "      position += length;\n",
              "\n",
              "      const base64 = btoa(String.fromCharCode.apply(null, chunk));\n",
              "      yield {\n",
              "        response: {\n",
              "          action: 'append',\n",
              "          file: file.name,\n",
              "          data: base64,\n",
              "        },\n",
              "      };\n",
              "\n",
              "      let percentDone = fileData.byteLength === 0 ?\n",
              "          100 :\n",
              "          Math.round((position / fileData.byteLength) * 100);\n",
              "      percent.textContent = `${percentDone}% done`;\n",
              "\n",
              "    } while (position < fileData.byteLength);\n",
              "  }\n",
              "\n",
              "  // All done.\n",
              "  yield {\n",
              "    response: {\n",
              "      action: 'complete',\n",
              "    }\n",
              "  };\n",
              "}\n",
              "\n",
              "scope.google = scope.google || {};\n",
              "scope.google.colab = scope.google.colab || {};\n",
              "scope.google.colab._files = {\n",
              "  _uploadFiles,\n",
              "  _uploadFilesContinue,\n",
              "};\n",
              "})(self);\n",
              "</script> "
            ]
          },
          "metadata": {}
        },
        {
          "output_type": "stream",
          "name": "stdout",
          "text": [
            "Saving allinter to allinter\n",
            "Saving allintercons to allintercons\n"
          ]
        }
      ]
    },
    {
      "cell_type": "markdown",
      "metadata": {
        "id": "4B5w7iPPhwV6"
      },
      "source": [
        "A) We have provided the sequence of all intergenic regions in S. *cerevisiae* in\n",
        "`allinter`. We have also provided an annotation of conservation in `allintercons`. Each position marked with * (everything else is considered nonconserved) corresponds to a conserved nucleotide. For simplicity, we will look for motifs which are non-degenerate, exact matches. In other words, a conserved motif consists entirely of conserved nucleotides.\n",
        "\n",
        "Compute the frequency and conservation of all 6-mers. Report the 50 most frequently occurring and 50 most conserved motifs (those with the highest proportion of conserved instances) as python lists."
      ]
    },
    {
      "cell_type": "code",
      "metadata": {
        "id": "vWWmPu1uiZFl",
        "colab": {
          "base_uri": "https://localhost:8080/"
        },
        "outputId": "35d0fe26-b370-4446-be2e-c0ba5dab6c83"
      },
      "source": [
        "# Intergenic regions: intergenic[\"allinter\"]\n",
        "# Annotation of conservation: intergenic[\"allintercons\"]\n",
        "\n",
        "### YOUR CODE HERE ###\n",
        "seq1 = readSeq(intergenic[\"allinter\"])\n",
        "seq2 = readSeq(intergenic[\"allintercons\"])\n",
        "kmerlen = 6\n",
        "print(seq1[1:100])\n",
        "print('----')\n",
        "print(seq2[1000:2000])\n",
        "print(\"hashing seq1\")\n",
        "lookup = {}\n",
        "result={}\n",
        "lookup2={}\n",
        "result2={}\n",
        "for i in range(len(seq1) - kmerlen + 1):\n",
        "    key = seq1[i:i + kmerlen]\n",
        "    if '#' in key or '-' in key:\n",
        "      continue\n",
        "    lookup.setdefault(key, []).append(i)\n",
        "    if key in lookup:\n",
        "        result[key]=result.get(key,0)+1\n",
        "    key2 = seq2[i:i + kmerlen]\n",
        "    lookup2.setdefault(key2, []).append(i)\n",
        "    if key2 =='******':\n",
        "        result2[key]=result2.get(key,0)+1\n",
        "\n",
        "for k in result2:\n",
        "  if k in result:\n",
        "    result2[k]=result2[k]/result[k]\n",
        "\n",
        "\n",
        "result=dict(sorted(result.items(), key=lambda item: item[1], reverse=True))\n",
        "result2=dict(sorted(result2.items(), key=lambda item: item[1], reverse=True))\n",
        "resultlis=[]\n",
        "for key in result:\n",
        "  resultlis.append(key)\n",
        "\n",
        "result2lis=[]\n",
        "for key in result2:\n",
        "  result2lis.append(key)\n",
        "#print(list(result.items())[:50])\n",
        "#print(len(list(result.items())[:50]))\n",
        "#print(resultlis[:50])\n",
        "print(list(result.items())[:50])\n",
        "\n",
        "#print(result2lis[:50])\n",
        "#print(list(result2.items())[:50])\n",
        "#print(len(list(result2.items())[:50]))\n",
        "print(list(result2.items())[:50])\n",
        "\n",
        "\n"
      ],
      "execution_count": null,
      "outputs": [
        {
          "output_type": "stream",
          "name": "stdout",
          "text": [
            "TAAAAATAATTATAACCTTTTTTATAATTATATATAATAATAATATATATTATCAAATAATTATTATTTCTTTTTTTTCTTTAATTAATTAATTAATTA\n",
            "----\n",
            "                                                                                                                                                                                                                                                                                                                                                                                                                                                                                                                                                                                                                                                                                                                                                                                                                                                                                                                                                                                                                                        \n",
            "hashing seq1\n",
            "[('AAAAAA', 16743), ('TTTTTT', 16354), ('TATATA', 8616), ('ATATAT', 8255), ('AAAAAT', 6053), ('ATTTTT', 5911), ('GAAAAA', 5528), ('TTTTTC', 5202), ('AAAATA', 5106), ('TAAAAA', 5001), ('AATAAA', 4990), ('ATAAAA', 4981), ('TATTTT', 4972), ('AAGAAA', 4953), ('AAATAA', 4876), ('CTTTTT', 4871), ('AGAAAA', 4808), ('TTTCTT', 4770), ('TTATTT', 4665), ('AAAAAG', 4663), ('TTTTTA', 4647), ('TTTTAT', 4641), ('TTTATT', 4637), ('TTTTCT', 4592), ('AAAGAA', 4522), ('ATAATA', 4499), ('TTCTTT', 4428), ('ATATAA', 4290), ('TATTAT', 4288), ('AATATA', 4286), ('TCTTTT', 4261), ('AAATAT', 4257), ('ATATTT', 4252), ('AAAAGA', 4208), ('TTATAT', 4176), ('AATTTT', 4166), ('TATATT', 4141), ('AAAATT', 4077), ('AATAAT', 3996), ('AATATT', 3990), ('TAAATA', 3863), ('ATTATT', 3854), ('AAATTT', 3826), ('TATAAA', 3818), ('TAATAA', 3758), ('ATATTA', 3727), ('TATTTA', 3720), ('TAATAT', 3706), ('TTTATA', 3701), ('ATAAAT', 3555)]\n",
            "[('CGGGTA', 0.44871794871794873), ('TACCCG', 0.4469026548672566), ('CCGGGT', 0.3991228070175439), ('ACCCGG', 0.37894736842105264), ('CACGTG', 0.37026239067055394), ('ACGCGT', 0.3627450980392157), ('GGGTAA', 0.3357348703170029), ('TTACCC', 0.3200962695547533), ('GCGGCT', 0.29874213836477986), ('CGCGTC', 0.2914572864321608), ('CGGCTA', 0.27960526315789475), ('CTCATC', 0.2779874213836478), ('GCGATG', 0.2691511387163561), ('CACCCG', 0.26732673267326734), ('GATGAG', 0.26627906976744187), ('GCGGGT', 0.26066350710900477), ('CGATGA', 0.25733333333333336), ('TTCGCG', 0.2521489971346705), ('GAGTCA', 0.2506811989100817), ('GCGCGA', 0.25), ('GGGTGG', 0.24904214559386972), ('TCATCG', 0.24890190336749635), ('GGCGGC', 0.245136186770428), ('ACCCGC', 0.24444444444444444), ('GCCCCT', 0.23809523809523808), ('TGGGTG', 0.23711340206185566), ('CAGGGG', 0.23699421965317918), ('GCCGCC', 0.23577235772357724), ('CCGATA', 0.2346368715083799), ('TCGCGT', 0.23333333333333334), ('GTCGAC', 0.23225806451612904), ('GTCGCG', 0.23026315789473684), ('CGTCGC', 0.22966507177033493), ('CATCGC', 0.22950819672131148), ('GACGCG', 0.22685185185185186), ('TAGCCG', 0.22413793103448276), ('ACGCGA', 0.22377622377622378), ('CCCGAG', 0.2222222222222222), ('CTCGAG', 0.22131147540983606), ('CCCCTG', 0.22023809523809523), ('GGTTCG', 0.21725239616613418), ('CGCGTT', 0.21714285714285714), ('GGAGTC', 0.21621621621621623), ('AGCCGC', 0.21597633136094674), ('CCGAGC', 0.2159090909090909), ('CGGCGG', 0.21287128712871287), ('TGACTC', 0.21203438395415472), ('AACGCG', 0.2113095238095238), ('CGCGAG', 0.2108843537414966), ('GTACGG', 0.21067415730337077)]\n"
          ]
        }
      ]
    },
    {
      "cell_type": "markdown",
      "metadata": {
        "id": "n78DugyXia3E"
      },
      "source": [
        "**Answer here:**\n",
        "\n",
        "Most frequently occurring:['AAAAAA', 'TTTTTT', 'TATATA', 'ATATAT', 'AAAAAT', 'ATTTTT', 'GAAAAA', 'TTTTTC', 'AAAATA', 'TAAAAA', 'AATAAA', 'ATAAAA', 'TATTTT', 'AAGAAA', 'AAATAA', 'CTTTTT', 'AGAAAA', 'TTTCTT', 'TTATTT', 'AAAAAG', 'TTTTTA', 'TTTTAT', 'TTTATT', 'TTTTCT', 'AAAGAA', 'ATAATA', 'TTCTTT', 'ATATAA', 'TATTAT', 'AATATA', 'TCTTTT', 'AAATAT', 'ATATTT', 'AAAAGA', 'TTATAT', 'AATTTT', 'TATATT', 'AAAATT', 'AATAAT', 'AATATT', 'TAAATA', 'ATTATT', 'AAATTT', 'TATAAA', 'TAATAA', 'ATATTA', 'TATTTA', 'TAATAT', 'TTTATA', 'ATAAAT']\n",
        "\n",
        "Most conserved: ['CGGGTA', 'TACCCG', 'CCGGGT', 'ACCCGG', 'CACGTG', 'ACGCGT', 'GGGTAA', 'TTACCC', 'GCGGCT', 'CGCGTC', 'CGGCTA', 'CTCATC', 'GCGATG', 'CACCCG', 'GATGAG', 'GCGGGT', 'CGATGA', 'TTCGCG', 'GAGTCA', 'GCGCGA', 'GGGTGG', 'TCATCG', 'GGCGGC', 'ACCCGC', 'GCCCCT', 'TGGGTG', 'CAGGGG', 'GCCGCC', 'CCGATA', 'TCGCGT', 'GTCGAC', 'GTCGCG', 'CGTCGC', 'CATCGC', 'GACGCG', 'TAGCCG', 'ACGCGA', 'CCCGAG', 'CTCGAG', 'CCCCTG', 'GGTTCG', 'CGCGTT', 'GGAGTC', 'AGCCGC', 'CCGAGC', 'CGGCGG', 'TGACTC', 'AACGCG', 'CGCGAG', 'GTACGG']"
      ]
    },
    {
      "cell_type": "markdown",
      "metadata": {
        "id": "GMWrwpsejI2V"
      },
      "source": [
        "B) Compare frequently occurring motifs to highly conserved motifs. Are there biases in the sequence properties of either class? If so, where does this bias come from?\n",
        "The frequently occuring motifs are biased towards more A, and T. Whereas, the conserved motifs are slighlty biased towards C, and G. Frequent motifs could be picked from background, and/or poly A tails. However, Conserved motifs could be picked from promoter region which has higher CpG island.\n",
        "\n",
        "Which of the two lists should we use to direct further inquiry into yeast transcription factor binding sites? Provide justification.\n",
        "\n",
        "I would pick highly conserved, because conservation indicate functional, and it make sense that transcriptional factor binding sites should be conserved as they are functional areas."
      ]
    },
    {
      "cell_type": "markdown",
      "metadata": {
        "id": "1iLABYY1jQ1G"
      },
      "source": [
        "**Answer here:**\n",
        "The frequently occuring motifs are biased towards more A, and T. Whereas, the conserved motifs are slighlty biased towards C, and G. Frequent motifs could be picked from background, and/or poly A tails. However, Conserved motifs could be picked from promoter region which has higher CpG island.\n",
        "\n",
        "I would pick highly conserved, because conservation indicate functional, and it make sense that transcriptional factor binding sites should be conserved as they are functional areas."
      ]
    }
  ]
}